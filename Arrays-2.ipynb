{
 "cells": [
  {
   "cell_type": "markdown",
   "id": "3c193111-e3b6-46f9-b6d1-990157d1bd26",
   "metadata": {},
   "source": [
    "## 2sum Problem"
   ]
  },
  {
   "cell_type": "code",
   "execution_count": 1,
   "id": "8fdc2c65-a455-448f-b670-ddad7c4e7977",
   "metadata": {},
   "outputs": [],
   "source": [
    "def read(n: int, book: [int], target: int) -> str:\n",
    "    # Write your code here.\n",
    "    i=0\n",
    "    j=n-1\n",
    "    book.sort()\n",
    "    while i < j:\n",
    "        sum = book[i] + book[j]\n",
    "\n",
    "        if sum == target:\n",
    "            return \"YES\"\n",
    "\n",
    "        elif sum < target:\n",
    "            i =i+1\n",
    "        else:\n",
    "            j =j-1\n",
    "    return \"NO\""
   ]
  },
  {
   "cell_type": "code",
   "execution_count": 2,
   "id": "9fa570f5-bbd9-4433-827d-51251fdd2ae8",
   "metadata": {},
   "outputs": [
    {
     "name": "stdout",
     "output_type": "stream",
     "text": [
      "12\n",
      "9\n",
      "8\n",
      "6\n",
      "3\n"
     ]
    }
   ],
   "source": [
    "arr = [2,5,6,8,11]\n",
    "n= len(arr)\n",
    "target = 14\n",
    "for i in range(n):\n",
    "    a=arr[i]\n",
    "    more=target-a\n",
    "    print(more)"
   ]
  },
  {
   "cell_type": "markdown",
   "id": "98a82e98-bd0f-4805-9241-8abaeb26ddf8",
   "metadata": {},
   "source": [
    "## Sort of an arrays 0's 1's and 2's"
   ]
  },
  {
   "cell_type": "code",
   "execution_count": 3,
   "id": "8e7735c2-838d-4122-a609-8b0429f9acc1",
   "metadata": {},
   "outputs": [
    {
     "name": "stdout",
     "output_type": "stream",
     "text": [
      "3 2 6\n",
      "2\n",
      "2\n",
      "2\n"
     ]
    }
   ],
   "source": [
    "arr =[2, 2, 2, 2, 0, 0, 1, 0]\n",
    "n=len(arr)\n",
    "count0 = 0\n",
    "count1 = 1\n",
    "count2 = 2\n",
    "\n",
    "for i in range(n):\n",
    "\tif arr[i] ==0:\n",
    "\t\tcount0 +=1\n",
    "\telif arr[i] ==1:\n",
    "\t\tcount1 +=1\n",
    "\telse:\n",
    "\t\tcount2 +=1\n",
    "print(count0,count1,count2)\n",
    "\n",
    "for i in range(count0):\n",
    "\tprint(arr[i])"
   ]
  },
  {
   "cell_type": "code",
   "execution_count": 4,
   "id": "55b19069-004c-452e-869d-e93cff68d579",
   "metadata": {},
   "outputs": [
    {
     "name": "stdout",
     "output_type": "stream",
     "text": [
      "[0, 0, 0, 1, 2, 2, 2, 2]\n"
     ]
    }
   ],
   "source": [
    "## Ducrch national flag algorithm\n",
    "arr =[2, 2, 2, 2, 0, 0, 1, 0]\n",
    "mid = 0\n",
    "low = 0\n",
    "high = n-1\n",
    "\n",
    "while mid<=high:\n",
    "    if arr[mid] ==0:\n",
    "        arr[low],arr[mid] =arr[mid],arr[low]\n",
    "        mid +=1\n",
    "        low +=1\n",
    "    elif arr[mid]==1:\n",
    "        mid=mid+1\n",
    "    else:\n",
    "        arr[mid],arr[high] = arr[high],arr[mid]\n",
    "        high -=1\n",
    "print(arr)"
   ]
  },
  {
   "cell_type": "markdown",
   "id": "6468cb0b-6d9b-4095-b2f6-722db7c9adad",
   "metadata": {},
   "source": [
    "## Majority N/2"
   ]
  },
  {
   "cell_type": "code",
   "execution_count": 3,
   "id": "a5e27beb-e872-4f7c-b3cb-e74285c96cb9",
   "metadata": {},
   "outputs": [
    {
     "name": "stdout",
     "output_type": "stream",
     "text": [
      "1\n",
      "1\n"
     ]
    }
   ],
   "source": [
    "arr = [2, 2, 1, 3, 1, 1, 3, 1, 1]\n",
    "n=len(arr)\n",
    "hash_map = {}\n",
    "\n",
    "for i in range(n):\n",
    "    if arr[i] not in hash_map:\n",
    "        hash_map[arr[i]] =1\n",
    "    else:\n",
    "        hash_map[arr[i]] +=1\n",
    "    if hash_map[arr[i]] > n//3:\n",
    "        print(arr[i])\n",
    "\n",
    "\n",
    "# for i in range(n):\n",
    "#     if hash_map[arr[i]] > n/3:\n",
    "#         print(arr[i])\n",
    "\n",
    "\n",
    "    \n",
    "    \n",
    "\n",
    "    "
   ]
  },
  {
   "cell_type": "code",
   "execution_count": 6,
   "id": "30f3a416-ef56-4700-b471-4be9e2b625bf",
   "metadata": {},
   "outputs": [
    {
     "name": "stdout",
     "output_type": "stream",
     "text": [
      "0\n",
      "0\n",
      "2\n",
      "2\n",
      "0\n",
      "0\n",
      "0\n",
      "0\n",
      "0\n"
     ]
    }
   ],
   "source": [
    "arr = [0, 5, 2, 2, 0, 0, 0, 0, 0]\n",
    "for i in arr:\n",
    "    print(arr[i])"
   ]
  },
  {
   "cell_type": "code",
   "execution_count": 7,
   "id": "74586c67-5ed9-4a74-935f-7dda8a14e9ba",
   "metadata": {},
   "outputs": [
    {
     "name": "stdout",
     "output_type": "stream",
     "text": [
      "1\n"
     ]
    }
   ],
   "source": [
    "## moore's Voting algo\n",
    "arr = [2, 2, 1, 3, 1, 1, 3, 1, 1]\n",
    "n=len(arr)\n",
    "count = 0\n",
    "\n",
    "for i in range(n):\n",
    "    if count == 0:\n",
    "        count =1\n",
    "        el=arr[i]\n",
    "    elif arr[i]==el:\n",
    "        count +=1\n",
    "    else:\n",
    "        count -=1\n",
    "print(el)\n",
    "# count1 =0\n",
    "# for i in range(n):\n",
    "#     if arr[i] ==el:\n",
    "#         count1 +=1\n",
    "#     if count1 > n/2:\n",
    "#         print(el)\n",
    "# print(-1)"
   ]
  },
  {
   "cell_type": "markdown",
   "id": "293d978b-b1a7-4d23-a737-108553168fbf",
   "metadata": {},
   "source": [
    "## Kaden's Algorithm"
   ]
  },
  {
   "cell_type": "code",
   "execution_count": 8,
   "id": "049ce447-faac-49fb-a5a8-20c168910938",
   "metadata": {},
   "outputs": [
    {
     "name": "stdout",
     "output_type": "stream",
     "text": [
      "-4\n"
     ]
    }
   ],
   "source": [
    "arr =[-7, -8 ,-16 ,-4 ,-8 ,-5 ,-7 ,-11 ,-10 ,-12 ,-4 ,-6, -4 ,-16 ,-10]\n",
    "\n",
    "n=len(arr)\n",
    "total=0\n",
    "maxl= arr[0]\n",
    "\n",
    "for i in range(n):\n",
    "    total +=arr[i]\n",
    "    maxl=max(maxl,total)\n",
    "    if total<=0:\n",
    "        total=0\n",
    "print(maxl)"
   ]
  },
  {
   "cell_type": "code",
   "execution_count": 9,
   "id": "2d4bc98d-569a-4705-9597-5215d63045c5",
   "metadata": {},
   "outputs": [
    {
     "name": "stdout",
     "output_type": "stream",
     "text": [
      "-7\n"
     ]
    }
   ],
   "source": [
    "print(max(-7,-15))"
   ]
  },
  {
   "cell_type": "markdown",
   "id": "8226d322-c67e-4f55-ad01-9571c2f4ad62",
   "metadata": {},
   "source": [
    "## print the subarray with max sum"
   ]
  },
  {
   "cell_type": "code",
   "execution_count": 10,
   "id": "43f30bd2-ef1e-4e3e-b322-f5279babb400",
   "metadata": {},
   "outputs": [
    {
     "name": "stdout",
     "output_type": "stream",
     "text": [
      "14 14 -4\n"
     ]
    }
   ],
   "source": [
    "##print the subarrry with max sum\n",
    "arr =[-7, -8 ,-16 ,-4 ,-8 ,-5 ,-7 ,-11 ,-10 ,-12 ,-4 ,-6, -4 ,-16 ,-10]\n",
    "\n",
    "n=len(arr)\n",
    "total=0\n",
    "maxl= arr[0]\n",
    "ans_start =-1\n",
    "ans_end =-1\n",
    "\n",
    "for i in range(n):\n",
    "    if total==0:\n",
    "        start =i\n",
    "    total = total+arr[i]\n",
    "    ans_start=start\n",
    "    ans_end=i\n",
    "    \n",
    "    if total > maxl:\n",
    "        maxl = total\n",
    "    if total < 0:\n",
    "        total=0\n",
    "print(ans_start,ans_end,maxl)\n",
    "        \n"
   ]
  },
  {
   "cell_type": "markdown",
   "id": "09919e9f-c1a5-46f2-8ecf-2430a4e0344a",
   "metadata": {},
   "source": [
    "## Best Time to Buy and Sell Stock"
   ]
  },
  {
   "cell_type": "code",
   "execution_count": 11,
   "id": "fbc8efc4-f3f6-4460-9d1f-8d198da2bd14",
   "metadata": {},
   "outputs": [
    {
     "name": "stdout",
     "output_type": "stream",
     "text": [
      "148\n"
     ]
    }
   ],
   "source": [
    "arr =  [2, 100, 150, 120]\n",
    "n=len(arr)\n",
    "##first buy the stock\n",
    "minl=arr[0]\n",
    "##max profit should be zero\n",
    "profit = 0\n",
    "\n",
    "for i in range(1,n):\n",
    "    cost = arr[i]-minl\n",
    "    profit = max(profit,cost)\n",
    "    minl = min(minl,arr[i])\n",
    "print(profit)"
   ]
  },
  {
   "cell_type": "markdown",
   "id": "d9164f1b-b1a8-4728-9d37-e28107f7543c",
   "metadata": {},
   "source": [
    "## Rearrange array elements By sign"
   ]
  },
  {
   "cell_type": "code",
   "execution_count": 12,
   "id": "22520e4a-e76d-49b2-ac02-fbcf040a2462",
   "metadata": {},
   "outputs": [
    {
     "name": "stdout",
     "output_type": "stream",
     "text": [
      "[3, 1, 2] [-2, -5, -4]\n",
      "[3, -2, 1, -5, 2, -4]\n"
     ]
    }
   ],
   "source": [
    "## n must be positive\n",
    "##Brute Force\n",
    "## pos==neg\n",
    "arr =[3,1,-2,-5,2,-4]\n",
    "n=len(arr)\n",
    "pos=[]\n",
    "neg=[]\n",
    "\n",
    "for i in range(n):\n",
    "    if arr[i] > 0:\n",
    "        pos.append(arr[i])\n",
    "    else:\n",
    "        neg.append(arr[i])\n",
    "print(pos,neg)\n",
    "\n",
    "for i in range(n//2):\n",
    "    arr[2*i] = pos[i]\n",
    "    arr[2*i+1] = neg[i]\n",
    "print(arr)"
   ]
  },
  {
   "cell_type": "code",
   "execution_count": 13,
   "id": "a61ac07e-fe55-4faf-9116-f3fd3a7658ce",
   "metadata": {},
   "outputs": [
    {
     "name": "stdout",
     "output_type": "stream",
     "text": [
      "[3, -2, 1, -5, 2, -4]\n"
     ]
    }
   ],
   "source": [
    "## Optimal Force\n",
    "\n",
    "arr =[3,1,-2,-5,2,-4]\n",
    "n=len(arr)\n",
    "ans=[0]*n\n",
    "pos_index=0\n",
    "neg_index=1\n",
    "for i in range(n):\n",
    "    if arr[i] <0:\n",
    "        ans[neg_index]=arr[i]\n",
    "        neg_index +=2\n",
    "    else:\n",
    "        ans[pos_index] =arr[i]\n",
    "        pos_index +=2\n",
    "print(ans)\n",
    "        \n"
   ]
  },
  {
   "cell_type": "markdown",
   "id": "48a244b3-f607-4f81-851c-d4d1470f74ee",
   "metadata": {},
   "source": [
    "## pos != neg\n",
    "\n",
    "arr = [1,2,-4,-5,3,6]\n",
    "n= len(arr)\n",
    "pos =[]\n",
    "neg=[]\n",
    "\n",
    "for i in range(n):\n",
    "    if arr[i] < 0:\n",
    "        neg.append(arr[i])\n",
    "    else:\n",
    "        pos.append(arr[i])\n",
    "print(pos,neg)\n",
    "\n",
    "for i in range(2):\n",
    "    \n",
    "    arr[2*i] = pos[i]\n",
    "    arr[2*i+1] = neg[i]\n",
    "\n",
    "print(arr)"
   ]
  },
  {
   "cell_type": "markdown",
   "id": "b2f42594-16dc-4515-9f34-bfc9cfb2a3ba",
   "metadata": {},
   "source": [
    "## Next Permutation"
   ]
  },
  {
   "cell_type": "code",
   "execution_count": null,
   "id": "b2118db8-f62d-4ad8-a2ea-ea3294214834",
   "metadata": {},
   "outputs": [],
   "source": []
  },
  {
   "cell_type": "markdown",
   "id": "769ab5bc-8e83-4035-bf52-a0b33197012f",
   "metadata": {},
   "source": [
    "## Leaders in An ARRAY"
   ]
  },
  {
   "cell_type": "code",
   "execution_count": 14,
   "id": "dc20f346-d79a-428d-900a-80df929a9d1c",
   "metadata": {},
   "outputs": [
    {
     "name": "stdout",
     "output_type": "stream",
     "text": [
      "[22, 12, 6]\n"
     ]
    }
   ],
   "source": [
    "##Brute Force\n",
    "##  \n",
    "arr =[10,22,12,3,0,6]\n",
    "n=len(arr)\n",
    "ans=[]\n",
    "\n",
    "for i in range(n):\n",
    "    leader=True\n",
    "    for j in range(i+1,n):\n",
    "        if arr[i] < arr[j]:\n",
    "            leader = False\n",
    "            break\n",
    "    if leader==True:\n",
    "        ans.append(arr[i])\n",
    "print(ans)\n"
   ]
  },
  {
   "cell_type": "code",
   "execution_count": 15,
   "id": "62695cf8-32b8-4948-ba97-6f5db44ca297",
   "metadata": {},
   "outputs": [
    {
     "name": "stdout",
     "output_type": "stream",
     "text": [
      "[6, 12, 22]\n"
     ]
    }
   ],
   "source": [
    "##Optimal\n",
    "arr =[10,22,12,3,0,6]\n",
    "n=len(arr)\n",
    "ans=[]\n",
    "maxl =0\n",
    "\n",
    "\n",
    "for i in range(n-1,-1,-1):\n",
    "    if arr[i] > maxl:\n",
    "        ans.append(arr[i])\n",
    "    maxl = max(maxl,arr[i])\n",
    "\n",
    "    \n",
    "    \n",
    "print(ans)\n",
    "\n",
    "        \n"
   ]
  },
  {
   "cell_type": "code",
   "execution_count": 16,
   "id": "b34421e8-7e3b-4086-b381-feaf90cd61a8",
   "metadata": {},
   "outputs": [
    {
     "name": "stdout",
     "output_type": "stream",
     "text": [
      "6\n",
      "0\n",
      "3\n",
      "12\n",
      "22\n",
      "10\n"
     ]
    }
   ],
   "source": [
    "arr =[10,22,12,3,0,6]\n",
    "n=len(arr)\n",
    "for i in range(n-1,-1,-1):\n",
    "    print(arr[i])\n"
   ]
  },
  {
   "cell_type": "markdown",
   "id": "8dc6138c-13fc-4330-b713-8e57d3eae33f",
   "metadata": {},
   "source": [
    "## Longest Consecutive Sequence"
   ]
  },
  {
   "cell_type": "code",
   "execution_count": 17,
   "id": "14f8c2ff-3c7e-4d0b-b8d7-fe0f90ff6d9c",
   "metadata": {},
   "outputs": [
    {
     "name": "stdout",
     "output_type": "stream",
     "text": [
      "4\n"
     ]
    }
   ],
   "source": [
    "##Brute Force\n",
    "arr = [102,4,100,1,101,3,2,1,1]\n",
    "n=len(arr)\n",
    "longest = 1\n",
    "ans=[]\n",
    "def ls(arr,num):\n",
    "    for i in range(n):\n",
    "        if arr[i] == x:\n",
    "            return True\n",
    "    return False\n",
    "            \n",
    "\n",
    "for i in range(n):\n",
    "    x=arr[i]\n",
    "    count =1\n",
    "\n",
    "\n",
    "while ls(arr,x+1) ==True:\n",
    "    ans.append(x)\n",
    "    \n",
    "    x=x+1\n",
    "    count=count+1\n",
    "\n",
    "    \n",
    "    \n",
    "\n",
    "\n",
    "print(len(ans))\n",
    "    \n",
    "\n",
    "\n",
    "            \n",
    "       \n",
    "            \n",
    "\n",
    "    \n",
    "        \n",
    "\n",
    "\n",
    "\n"
   ]
  },
  {
   "cell_type": "code",
   "execution_count": 18,
   "id": "d1b2aaa7-b967-464e-b2d1-92e6ad412aec",
   "metadata": {},
   "outputs": [
    {
     "name": "stdout",
     "output_type": "stream",
     "text": [
      "4\n"
     ]
    }
   ],
   "source": [
    "##better\n",
    "arr = [102,4,100,1,101,3,2,1,1]\n",
    "arr.sort()\n",
    "n=len(arr)\n",
    "longest = 1\n",
    "small = 0\n",
    "\n",
    "count=0\n",
    "\n",
    "for i in range(1,n):\n",
    "    if arr[i]-1 ==small:\n",
    "        count = count+1\n",
    "        small=arr[i]\n",
    "    elif small != arr[i]:\n",
    "        count=1\n",
    "        small=arr[i]\n",
    "        \n",
    "    longest=max(longest,count)\n",
    "print(longest)\n"
   ]
  },
  {
   "cell_type": "code",
   "execution_count": 31,
   "id": "fc5d8b9d-5c0a-4bf5-b542-9ffa3f82939a",
   "metadata": {},
   "outputs": [
    {
     "name": "stdout",
     "output_type": "stream",
     "text": [
      "4\n"
     ]
    }
   ],
   "source": [
    "##Optimal\n",
    "arr = [102,4,100,1,101,3,2,1,1]\n",
    "n=len(arr)\n",
    "if n ==0:\n",
    "    print(0)\n",
    "longest = 1\n",
    "s = set()\n",
    "\n",
    "for i in range(n):\n",
    "    s.add(arr[i])\n",
    "#print(s) = {1, 2, 3, 100, 4, 101, 102}\n",
    "\n",
    "\n",
    "for value in s:\n",
    "  if value-1  not in s:\n",
    "      count =1\n",
    "      x=value\n",
    "      while x+1 in s:\n",
    "          x +=1\n",
    "          count +=1\n",
    "      longest = max(longest,count)\n",
    "    \n",
    "    \n",
    "         \n",
    "print(longest)\n",
    "\n"
   ]
  },
  {
   "cell_type": "markdown",
   "id": "17d18e27-4e7c-41b9-a214-72f901c3fca6",
   "metadata": {},
   "source": [
    "## find All Subarray With Given Sum"
   ]
  },
  {
   "cell_type": "code",
   "execution_count": null,
   "id": "870cfb6a-375c-4882-bddc-e79c2d1cd20f",
   "metadata": {},
   "outputs": [],
   "source": []
  }
 ],
 "metadata": {
  "kernelspec": {
   "display_name": "Python 3 (ipykernel)",
   "language": "python",
   "name": "python3"
  },
  "language_info": {
   "codemirror_mode": {
    "name": "ipython",
    "version": 3
   },
   "file_extension": ".py",
   "mimetype": "text/x-python",
   "name": "python",
   "nbconvert_exporter": "python",
   "pygments_lexer": "ipython3",
   "version": "3.12.4"
  }
 },
 "nbformat": 4,
 "nbformat_minor": 5
}
