{
 "cells": [
  {
   "cell_type": "markdown",
   "id": "12e2b1e9-15a7-4793-ae04-171730d9e94b",
   "metadata": {},
   "source": [
    "## Pattren 1\n"
   ]
  },
  {
   "cell_type": "code",
   "execution_count": 22,
   "id": "015764cf-bcb5-4ab2-8e2b-ed696fdcc600",
   "metadata": {},
   "outputs": [
    {
     "name": "stdout",
     "output_type": "stream",
     "text": [
      "Enter the value of n:  5\n"
     ]
    },
    {
     "name": "stdout",
     "output_type": "stream",
     "text": [
      "* * * * * \n",
      "* * * * * \n",
      "* * * * * \n",
      "* * * * * \n",
      "* * * * * \n"
     ]
    }
   ],
   "source": [
    "## 5x5 matrix with *\n",
    "n = int(input(\"Enter the value of n: \"))\n",
    "for i in range(n):\n",
    "    for j in range(n):\n",
    "        print(\"*\",end=\" \")\n",
    "    print()"
   ]
  },
  {
   "cell_type": "markdown",
   "id": "c8a0cc35-8dcc-42fb-9d36-29c42ffa3e22",
   "metadata": {},
   "source": [
    "## Pattren 2\n"
   ]
  },
  {
   "cell_type": "code",
   "execution_count": 24,
   "id": "53e5e4ad-8db1-49c7-8c48-be1739ad4962",
   "metadata": {},
   "outputs": [
    {
     "name": "stdout",
     "output_type": "stream",
     "text": [
      "Enter the value of n:  5\n"
     ]
    },
    {
     "name": "stdout",
     "output_type": "stream",
     "text": [
      "\n",
      "* \n",
      "* * \n",
      "* * * \n",
      "* * * * \n",
      "* * * * * \n"
     ]
    }
   ],
   "source": [
    "n = int(input(\"Enter the value of n: \"))\n",
    "for i in range(n+1):\n",
    "    for j in range(i):\n",
    "        print(\"*\",end=\" \")\n",
    "    print()\n",
    "\n",
    "    "
   ]
  },
  {
   "cell_type": "markdown",
   "id": "b967122f-6e62-467b-8715-e87efabf3831",
   "metadata": {},
   "source": [
    "## Pattren 3"
   ]
  },
  {
   "cell_type": "code",
   "execution_count": 45,
   "id": "bbf52ea5-a2c7-4df3-a905-2ca7d3a0a972",
   "metadata": {},
   "outputs": [
    {
     "name": "stdout",
     "output_type": "stream",
     "text": [
      " Enter the value of n:  3\n"
     ]
    },
    {
     "name": "stdout",
     "output_type": "stream",
     "text": [
      "1 \n",
      "1 2 \n",
      "1 2 3 \n"
     ]
    }
   ],
   "source": [
    "n = int(input(\" Enter the value of n: \"))\n",
    "for i in range(1,n+1):\n",
    "    for j in range(1,i+1):\n",
    "        print(j,end=\" \")\n",
    "    print()"
   ]
  },
  {
   "cell_type": "markdown",
   "id": "9a33409b-fc2f-4479-a315-efa38cdae077",
   "metadata": {},
   "source": [
    "## Pattren 4\n"
   ]
  },
  {
   "cell_type": "code",
   "execution_count": 70,
   "id": "db75a789-f77e-4c2c-9596-1269948131c3",
   "metadata": {},
   "outputs": [
    {
     "name": "stdout",
     "output_type": "stream",
     "text": [
      "1 \n",
      "2 2 \n",
      "3 3 3 \n",
      "4 4 4 4 \n",
      "5 5 5 5 5 \n"
     ]
    }
   ],
   "source": [
    "n =5\n",
    "for i in range(1,n+1):\n",
    "    for j in range(i):\n",
    "        print(i,end=\" \")\n",
    "    print()"
   ]
  },
  {
   "cell_type": "markdown",
   "id": "31f56e03-2a11-4daa-bc91-b4c565f19b03",
   "metadata": {},
   "source": [
    "## Pattren 5"
   ]
  },
  {
   "cell_type": "code",
   "execution_count": 63,
   "id": "203b0c99-c7f9-41e4-9875-abd366e2fa16",
   "metadata": {},
   "outputs": [
    {
     "name": "stdout",
     "output_type": "stream",
     "text": [
      " Enter the value of n:  3\n"
     ]
    },
    {
     "name": "stdout",
     "output_type": "stream",
     "text": [
      "* * * \n",
      "* * \n",
      "* \n"
     ]
    }
   ],
   "source": [
    "n = int(input(\" Enter the value of n: \"))\n",
    "for i in range(n):\n",
    "   \n",
    "    for j in range(n-i):\n",
    "        print(\"*\",end=\" \")\n",
    "    print()"
   ]
  },
  {
   "cell_type": "markdown",
   "id": "e293e3c4-da02-4db0-b773-a0b1d1a41f10",
   "metadata": {},
   "source": [
    "## Pattren 6"
   ]
  },
  {
   "cell_type": "code",
   "execution_count": 75,
   "id": "6c64c3f4-a500-4e5b-a288-d0340e1d7635",
   "metadata": {},
   "outputs": [
    {
     "name": "stdout",
     "output_type": "stream",
     "text": [
      "1 2 3 4 5 6 \n",
      "1 2 3 4 5 \n",
      "1 2 3 4 \n",
      "1 2 3 \n",
      "1 2 \n",
      "1 \n",
      "\n"
     ]
    }
   ],
   "source": [
    "n = 6\n",
    "for i in range(n+1):\n",
    "    for j in range(1,n+1-i):\n",
    "        print(j,end=\" \")\n",
    "    print()"
   ]
  },
  {
   "cell_type": "markdown",
   "id": "2d73c6e1-b3ea-418f-bc47-0c7e92dcf74b",
   "metadata": {},
   "source": [
    "## Pattren 7"
   ]
  },
  {
   "cell_type": "code",
   "execution_count": 87,
   "id": "fc52fcb7-bfca-4f6b-b2a6-427d7478355c",
   "metadata": {},
   "outputs": [
    {
     "name": "stdout",
     "output_type": "stream",
     "text": [
      "  *  \n",
      " *** \n",
      "*****\n"
     ]
    }
   ],
   "source": [
    "n=3\n",
    "for i in range(n):\n",
    "    ##for space\n",
    "    for j in range(n-i-1):\n",
    "        print(\" \",end=\"\")\n",
    "    \n",
    "    ##for *\n",
    "    for j in range(2*i+1):\n",
    "        print(\"*\",end=\"\")\n",
    "       \n",
    "    ##for space\n",
    "    for j in range(n-i-1):\n",
    "        print(\" \",end=\"\")\n",
    "    print()\n",
    "        \n",
    "\n",
    "    "
   ]
  },
  {
   "cell_type": "markdown",
   "id": "7a3da72c-a409-45f6-b295-03c2a8bf3509",
   "metadata": {},
   "source": [
    "## Pattren 8\n"
   ]
  },
  {
   "cell_type": "code",
   "execution_count": 102,
   "id": "91380a4c-4481-4fc4-8481-42893e10aa9e",
   "metadata": {},
   "outputs": [
    {
     "name": "stdout",
     "output_type": "stream",
     "text": [
      "*********\n",
      " ******* \n",
      "  *****  \n",
      "   ***   \n",
      "    *    \n"
     ]
    }
   ],
   "source": [
    "n=5\n",
    "for i in range(n):\n",
    "    for j in range(i):\n",
    "        print(\" \",end=\"\")\n",
    "    for j in range(2*n-(2*i+1)):\n",
    "        print(\"*\",end=\"\")\n",
    "    for j in range(i):\n",
    "        print(\" \",end=\"\")\n",
    "    print()"
   ]
  },
  {
   "cell_type": "markdown",
   "id": "10c956a1-bce2-4f45-b535-bb4237c6eda5",
   "metadata": {},
   "source": [
    "## Pattren 9"
   ]
  },
  {
   "cell_type": "code",
   "execution_count": 104,
   "id": "8ca599a2-dc8d-4b6d-bb91-2dc0552de0f6",
   "metadata": {},
   "outputs": [
    {
     "name": "stdout",
     "output_type": "stream",
     "text": [
      "      *      \n",
      "     ***     \n",
      "    *****    \n",
      "   *******   \n",
      "  *********  \n",
      " *********** \n",
      "*************\n",
      "*************\n",
      " *********** \n",
      "  *********  \n",
      "   *******   \n",
      "    *****    \n",
      "     ***     \n",
      "      *      \n"
     ]
    }
   ],
   "source": [
    "n=7\n",
    "for i in range(n):\n",
    "    ##for space\n",
    "    for j in range(n-i-1):\n",
    "        print(\" \",end=\"\")\n",
    "    \n",
    "    ##for *\n",
    "    for j in range(2*i+1):\n",
    "        print(\"*\",end=\"\")\n",
    "       \n",
    "    ##for space\n",
    "    for j in range(n-i-1):\n",
    "        print(\" \",end=\"\")\n",
    "    print()\n",
    "for i in range(n):\n",
    "    for j in range(i):\n",
    "        print(\" \",end=\"\")\n",
    "    for j in range(2*n-(2*i+1)):\n",
    "        print(\"*\",end=\"\")\n",
    "    for j in range(i):\n",
    "        print(\" \",end=\"\")\n",
    "    print()"
   ]
  },
  {
   "cell_type": "markdown",
   "id": "9a91f9c6-e187-4cce-8802-3f0c1116e855",
   "metadata": {},
   "source": [
    "## Pattren 10"
   ]
  },
  {
   "cell_type": "code",
   "execution_count": 107,
   "id": "bc6505e1-d4c1-4c0a-b1a4-11cb4cc69957",
   "metadata": {},
   "outputs": [
    {
     "name": "stdout",
     "output_type": "stream",
     "text": [
      "\n",
      "*\n",
      "**\n",
      "***\n",
      "****\n",
      "*****\n",
      "****\n",
      "***\n",
      "**\n",
      "*\n",
      "\n"
     ]
    }
   ],
   "source": [
    "n=5\n",
    "for i in range(n):\n",
    "    for j in range(i):\n",
    "        print(\"*\",end=\"\")\n",
    "    print()\n",
    "for i in range(n+1):\n",
    "    for j in range(n-i):\n",
    "        print(\"*\",end=\"\")\n",
    "    print()"
   ]
  },
  {
   "cell_type": "markdown",
   "id": "ee925ffc-1a5b-4cfd-b889-253d3de80be2",
   "metadata": {},
   "source": [
    "## Pattren 11\n",
    "\n"
   ]
  },
  {
   "cell_type": "code",
   "execution_count": null,
   "id": "c57a3f0c",
   "metadata": {},
   "outputs": [],
   "source": []
  },
  {
   "cell_type": "code",
   "execution_count": null,
   "id": "8ce3ceaa",
   "metadata": {},
   "outputs": [],
   "source": []
  }
 ],
 "metadata": {
  "kernelspec": {
   "display_name": "Python 3 (ipykernel)",
   "language": "python",
   "name": "python3"
  },
  "language_info": {
   "codemirror_mode": {
    "name": "ipython",
    "version": 3
   },
   "file_extension": ".py",
   "mimetype": "text/x-python",
   "name": "python",
   "nbconvert_exporter": "python",
   "pygments_lexer": "ipython3",
   "version": "3.12.4"
  }
 },
 "nbformat": 4,
 "nbformat_minor": 5
}
