{
 "cells": [
  {
   "cell_type": "markdown",
   "id": "5e2f9ff3-0920-4d07-9b20-79f3e75f0e1a",
   "metadata": {},
   "source": [
    "## Pascal Triangle"
   ]
  },
  {
   "cell_type": "code",
   "execution_count": 3,
   "id": "97e4cef5-9bc9-4234-bdea-ea5af0317a93",
   "metadata": {},
   "outputs": [
    {
     "data": {
      "text/plain": [
       "120.0"
      ]
     },
     "execution_count": 3,
     "metadata": {},
     "output_type": "execute_result"
    }
   ],
   "source": [
    "## Here given the nth row and cloumn\n",
    "def ncr(n,r):\n",
    "    res = 1\n",
    "\n",
    "    for i in range(r):\n",
    "        res = res*(n-i)\n",
    "        res = res / (i+1)\n",
    "    return res\n",
    "ncr(10,3)"
   ]
  },
  {
   "cell_type": "code",
   "execution_count": 7,
   "id": "493a09a1-9fe7-4ac2-9ac9-255af2370dee",
   "metadata": {},
   "outputs": [
    {
     "name": "stdout",
     "output_type": "stream",
     "text": [
      "1\n",
      "4.0 6.0 4.0 1.0 "
     ]
    }
   ],
   "source": [
    "## print any given the Nth row elements\n",
    "n=5\n",
    "ans = 1\n",
    "print(ans)\n",
    "\n",
    "for i in range(1,n):\n",
    "    ans = ans * (n-i)\n",
    "    ans = ans / i\n",
    "    print(ans,end=\" \")"
   ]
  },
  {
   "cell_type": "code",
   "execution_count": 25,
   "id": "3200b669-fa1d-4473-babd-534ca053054b",
   "metadata": {},
   "outputs": [
    {
     "name": "stdout",
     "output_type": "stream",
     "text": [
      "[[1], [1, 1], [1, 2, 1], [1, 3, 3, 1], [1, 4, 6, 4, 1], [1, 5, 10, 10, 5, 1]]\n",
      "\n"
     ]
    }
   ],
   "source": [
    "## Print the pascal triangle\n",
    "def ncr(n,r):\n",
    "    res = 1\n",
    "\n",
    "    for i in range(r):\n",
    "        res = res*(n-i)\n",
    "        res = res / (i+1)\n",
    "    return int(res)\n",
    "def pascaltriangle(n):\n",
    "    ans = []\n",
    "    for row in range(1,n+1):\n",
    "        temp=[]\n",
    "        for col in range(1,row+1):\n",
    "            temp.append(ncr(row-1,col-1))\n",
    "        ans.append(temp)\n",
    "    return ans\n",
    "\n",
    "print(pascaltriangle(6))\n",
    "print()\n",
    "        \n",
    "    "
   ]
  },
  {
   "cell_type": "code",
   "execution_count": 29,
   "id": "4d2967b0-2dcd-40af-80a4-bbab66ffdd3f",
   "metadata": {},
   "outputs": [
    {
     "data": {
      "text/plain": [
       "[[1], [1, 1], [1, 2, 1], [1, 3, 3, 1], [1, 4, 6, 4, 1], [1, 5, 10, 10, 5, 1]]"
      ]
     },
     "execution_count": 29,
     "metadata": {},
     "output_type": "execute_result"
    }
   ],
   "source": [
    "## Optimal\n",
    "\n",
    "def generaterow(row):\n",
    "    ans = 1\n",
    "    ansRow = [1]\n",
    "    for col in range(1,row):\n",
    "        ans = ans * (row-col)\n",
    "        ans = ans // col\n",
    "        ansRow.append(ans)\n",
    "    return ansRow\n",
    "def pascal(n):\n",
    "    ans =[]\n",
    "    for row in range(1,n+1):\n",
    "        ans.append(generaterow(row))\n",
    "    return ans\n",
    "pascal(6)"
   ]
  },
  {
   "cell_type": "markdown",
   "id": "ecf2ba64-a8dc-4b67-9ca5-135075ad083f",
   "metadata": {},
   "source": [
    "## Majority element N/3"
   ]
  },
  {
   "cell_type": "code",
   "execution_count": 30,
   "id": "2aa30d77-9b41-41f7-bd18-998a6746a8d4",
   "metadata": {},
   "outputs": [
    {
     "name": "stdout",
     "output_type": "stream",
     "text": [
      "[3]\n"
     ]
    }
   ],
   "source": [
    "def majorityElement(v: [int]) -> [int]:\n",
    "    v.sort()\n",
    "    n = len(v)\n",
    "    \n",
    "    hash_map = {}\n",
    "    result = []\n",
    "\n",
    "    for num in v:\n",
    "        if num not in hash_map:\n",
    "            hash_map[num] = 1\n",
    "        else:\n",
    "            hash_map[num] += 1\n",
    "\n",
    "    # Iterate over hash_map to collect elements appearing more than n//3 times\n",
    "    for key, value in hash_map.items():\n",
    "        if value > n // 3 and key not in result:\n",
    "            result.append(key)\n",
    "\n",
    "    return result\n",
    "\n",
    "# Example usage\n",
    "v = [3, 2, 3]\n",
    "print(majorityElement(v))  # Output: [3]"
   ]
  },
  {
   "cell_type": "code",
   "execution_count": 36,
   "id": "c2e0c2ce-c7ac-4aab-81e8-c952197665ca",
   "metadata": {},
   "outputs": [
    {
     "name": "stdout",
     "output_type": "stream",
     "text": [
      "1\n",
      "1\n",
      "1\n",
      "1\n",
      "1\n",
      "1\n"
     ]
    }
   ],
   "source": [
    "## optimal\n",
    "def majorityElement(v: [int]) -> [int]:\n",
    "    # Write your code here\n",
    "    v.sort()\n",
    "    n=len(v)\n",
    "    hash={}\n",
    "    res =[]\n",
    "\n",
    "    for i in range(n):\n",
    "        if v[i] not in hash:\n",
    "            hash[v[i]] =1\n",
    "        else:\n",
    "            hash[v[i]] +=1\n",
    "\n",
    "    \n",
    "    for key,value in hash.items():\n",
    "        if value > n/3 and key not in res:\n",
    "            res.append(key)\n",
    "    return res\n",
    "        \n",
    "    "
   ]
  },
  {
   "cell_type": "markdown",
   "id": "1e296a3a-8d40-43fb-a834-037ea2bde164",
   "metadata": {},
   "source": [
    "## 3Sum"
   ]
  },
  {
   "cell_type": "code",
   "execution_count": 38,
   "id": "6963c6f6-02bb-4a88-98b7-839066c5e5d7",
   "metadata": {},
   "outputs": [
    {
     "name": "stdout",
     "output_type": "stream",
     "text": [
      "[(-1, 0, 0), (-1, -1, 1)]\n"
     ]
    }
   ],
   "source": [
    "def triplet(n, arr):\n",
    "    st = set()\n",
    "    for i in range(n):\n",
    "        hashset = set()\n",
    "        for j in range(i+1,n):\n",
    "            third = -(arr[i]+arr[j])\n",
    "            if third in hashset:\n",
    "                temp = [arr[i],arr[j],arr[third]]\n",
    "                temp.sort()\n",
    "                st.add(tuple(temp))\n",
    "            hashset.add(arr[j])\n",
    "    ans=list(st)\n",
    "    return ans\n",
    "arr = [-1, 0, 1, 2, -1, -4]\n",
    "n = len(arr)\n",
    "print(triplet(n,arr))"
   ]
  },
  {
   "cell_type": "markdown",
   "id": "e43bdecf-52a3-423f-ae77-a943b4eb9a73",
   "metadata": {},
   "source": [
    "## 4 sum"
   ]
  },
  {
   "cell_type": "code",
   "execution_count": 41,
   "id": "344a4494-cfd6-4642-acb2-419ed114d320",
   "metadata": {},
   "outputs": [
    {
     "ename": "AttributeError",
     "evalue": "'tuple' object has no attribute 'add'",
     "output_type": "error",
     "traceback": [
      "\u001b[0;31m---------------------------------------------------------------------------\u001b[0m",
      "\u001b[0;31mAttributeError\u001b[0m                            Traceback (most recent call last)",
      "Cell \u001b[0;32mIn[41], line 19\u001b[0m\n\u001b[1;32m     17\u001b[0m n \u001b[38;5;241m=\u001b[39m \u001b[38;5;28mlen\u001b[39m(arr)\n\u001b[1;32m     18\u001b[0m target \u001b[38;5;241m=\u001b[39m\u001b[38;5;241m9\u001b[39m\n\u001b[0;32m---> 19\u001b[0m \u001b[38;5;28mprint\u001b[39m(foursum(n,arr))\n",
      "Cell \u001b[0;32mIn[41], line 13\u001b[0m, in \u001b[0;36mfoursum\u001b[0;34m(n, arr)\u001b[0m\n\u001b[1;32m     11\u001b[0m                 temp\u001b[38;5;241m.\u001b[39msort()\n\u001b[1;32m     12\u001b[0m                 st\u001b[38;5;241m.\u001b[39madd(\u001b[38;5;28mtuple\u001b[39m(temp))\n\u001b[0;32m---> 13\u001b[0m             hashset\u001b[38;5;241m.\u001b[39madd(arr[k])\n\u001b[1;32m     14\u001b[0m ans \u001b[38;5;241m=\u001b[39m\u001b[38;5;28mlist\u001b[39m(st)\n\u001b[1;32m     15\u001b[0m \u001b[38;5;28;01mreturn\u001b[39;00m ans\n",
      "\u001b[0;31mAttributeError\u001b[0m: 'tuple' object has no attribute 'add'"
     ]
    }
   ],
   "source": [
    "def foursum(n,arr):\n",
    "    st=set()\n",
    "    for i in range(n):\n",
    "        for j in range(i+1,n):\n",
    "            hashset=()\n",
    "            for k in range(j+1,n):\n",
    "                suml = arr[i]+arr[j]+arr[k]\n",
    "                fourth = target-suml\n",
    "                if fourth in  hashset:\n",
    "                    temp=[arr[i],arr[j],arr[k],fourth]\n",
    "                    temp.sort()\n",
    "                    st.add(tuple(temp))\n",
    "                hashset.add(arr[k])\n",
    "    ans =list(st)\n",
    "    return ans\n",
    "arr = [-1, 0, 1, 2, -1, -4]\n",
    "n = len(arr)\n",
    "target =9\n",
    "print(foursum(n,arr))\n",
    "                "
   ]
  },
  {
   "cell_type": "code",
   "execution_count": 46,
   "id": "c6cd4015-5d6e-4019-9291-8badd4b863c1",
   "metadata": {},
   "outputs": [
    {
     "ename": "TypeError",
     "evalue": "object of type 'int' has no len()",
     "output_type": "error",
     "traceback": [
      "\u001b[0;31m---------------------------------------------------------------------------\u001b[0m",
      "\u001b[0;31mTypeError\u001b[0m                                 Traceback (most recent call last)",
      "Cell \u001b[0;32mIn[46], line 22\u001b[0m\n\u001b[1;32m     20\u001b[0m n \u001b[38;5;241m=\u001b[39m \u001b[38;5;28mlen\u001b[39m(nums)\n\u001b[1;32m     21\u001b[0m target \u001b[38;5;241m=\u001b[39m\u001b[38;5;241m9\u001b[39m\n\u001b[0;32m---> 22\u001b[0m \u001b[38;5;28mprint\u001b[39m(fourSum(n,arr))\n",
      "Cell \u001b[0;32mIn[46], line 4\u001b[0m, in \u001b[0;36mfourSum\u001b[0;34m(nums, target)\u001b[0m\n\u001b[1;32m      1\u001b[0m \u001b[38;5;28;01mdef\u001b[39;00m \u001b[38;5;21mfourSum\u001b[39m(nums: [\u001b[38;5;28mint\u001b[39m], target: \u001b[38;5;28mint\u001b[39m) \u001b[38;5;241m-\u001b[39m\u001b[38;5;241m>\u001b[39m [[\u001b[38;5;28mint\u001b[39m]]:\n\u001b[1;32m      2\u001b[0m     \u001b[38;5;66;03m# Write your code from here.\u001b[39;00m\n\u001b[0;32m----> 4\u001b[0m     n\u001b[38;5;241m=\u001b[39m\u001b[38;5;28mlen\u001b[39m(nums)\n\u001b[1;32m      5\u001b[0m     st\u001b[38;5;241m=\u001b[39m\u001b[38;5;28mset\u001b[39m()\n\u001b[1;32m      6\u001b[0m     \u001b[38;5;28;01mfor\u001b[39;00m i \u001b[38;5;129;01min\u001b[39;00m \u001b[38;5;28mrange\u001b[39m(n):\n",
      "\u001b[0;31mTypeError\u001b[0m: object of type 'int' has no len()"
     ]
    }
   ],
   "source": [
    "def fourSum(nums: [int], target: int) -> [[int]]:\n",
    "    # Write your code from here.\n",
    "    \n",
    "    n=len(nums)\n",
    "    st=set()\n",
    "    for i in range(n):\n",
    "        for j in range(i+1,n):\n",
    "            hashset=()\n",
    "            for k in range(j+1,n):\n",
    "                suml = nums[i]+nums[j]+nums[k]\n",
    "                fourth = target-suml\n",
    "                if fourth in  hashset:\n",
    "                    temp=tuple(sorted([nums[i],nums[j],nums[k],fourth]))\n",
    "                    st.add(temp)\n",
    "                \n",
    "                hashset.add(nums[k])\n",
    "    ans =[list[t] for t in st]\n",
    "    return ans\n",
    "nums = [-1, 0, 1, 2, -1, -4]\n",
    "n = len(nums)\n",
    "target =9\n",
    "print(fourSum(n,arr))\n",
    "                "
   ]
  },
  {
   "cell_type": "code",
   "execution_count": null,
   "id": "10fd5bc2-2659-46c7-97e1-0e4eed11258c",
   "metadata": {},
   "outputs": [],
   "source": []
  }
 ],
 "metadata": {
  "kernelspec": {
   "display_name": "Python 3 (ipykernel)",
   "language": "python",
   "name": "python3"
  },
  "language_info": {
   "codemirror_mode": {
    "name": "ipython",
    "version": 3
   },
   "file_extension": ".py",
   "mimetype": "text/x-python",
   "name": "python",
   "nbconvert_exporter": "python",
   "pygments_lexer": "ipython3",
   "version": "3.12.4"
  }
 },
 "nbformat": 4,
 "nbformat_minor": 5
}
