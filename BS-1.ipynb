{
 "cells": [
  {
   "cell_type": "markdown",
   "id": "2a66aab0-3d49-44c3-893a-fec63b44a319",
   "metadata": {},
   "source": [
    "## Sqrt of a Number in sorted Array"
   ]
  },
  {
   "cell_type": "code",
   "execution_count": null,
   "id": "05b86462-ae10-4508-99fa-81fff22eafed",
   "metadata": {},
   "outputs": [],
   "source": [
    "def sqrt(n):\n",
    "    low = 1\n",
    "    high = n\n",
    "    while low<=high:\n",
    "        mid = (low+high) // 2\n",
    "        val = mid * mid\n",
    "        if val <=n:\n",
    "            low = mid+1\n",
    "        else:\n",
    "            high = mid-1\n",
    "    return -1\n",
    "sqrt(10)"
   ]
  },
  {
   "cell_type": "code",
   "execution_count": null,
   "id": "44ebf2fa-b9c6-4a0f-a58d-16b6c6871ca9",
   "metadata": {},
   "outputs": [],
   "source": []
  },
  {
   "cell_type": "markdown",
   "id": "0086f60d-3133-4d6a-b6dd-c5a08bb028c6",
   "metadata": {},
   "source": [
    "## Koko Eating Bananas"
   ]
  },
  {
   "cell_type": "code",
   "execution_count": null,
   "id": "d61434b3-190d-4ead-9e52-12956cc9faa9",
   "metadata": {},
   "outputs": [],
   "source": []
  }
 ],
 "metadata": {
  "kernelspec": {
   "display_name": "Python 3 (ipykernel)",
   "language": "python",
   "name": "python3"
  },
  "language_info": {
   "codemirror_mode": {
    "name": "ipython",
    "version": 3
   },
   "file_extension": ".py",
   "mimetype": "text/x-python",
   "name": "python",
   "nbconvert_exporter": "python",
   "pygments_lexer": "ipython3",
   "version": "3.12.4"
  }
 },
 "nbformat": 4,
 "nbformat_minor": 5
}
