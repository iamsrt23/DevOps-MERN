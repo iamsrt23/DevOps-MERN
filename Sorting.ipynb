{
 "cells": [
  {
   "cell_type": "markdown",
   "id": "83376d3c-9db8-4369-b0bf-a16a3693d60a",
   "metadata": {},
   "source": [
    "## Selection Sort"
   ]
  },
  {
   "cell_type": "code",
   "execution_count": 1,
   "id": "65787065-3739-472a-a292-31ac9a627b71",
   "metadata": {},
   "outputs": [
    {
     "name": "stdout",
     "output_type": "stream",
     "text": [
      "[9, 13, 20, 24, 46, 52]\n"
     ]
    }
   ],
   "source": [
    "def selectionsort(arr):\n",
    "    n=len(arr)\n",
    " \n",
    "    for i in range(n):\n",
    "        min=i\n",
    "        for j in range(i+1,n):\n",
    "            if arr[j] < arr[min]:\n",
    "                min = j\n",
    "        arr[i],arr[min]=arr[min],arr[i]\n",
    "    return arr\n",
    "\n",
    " \n",
    "arr = [13,46,24,52,20,9]\n",
    "sorted_arr=selectionsort(arr)\n",
    "print(sorted_arr)\n"
   ]
  },
  {
   "cell_type": "markdown",
   "id": "fbd18fd2-0906-4868-8c23-629721096e33",
   "metadata": {},
   "source": [
    "## Bubble Sort"
   ]
  },
  {
   "cell_type": "code",
   "execution_count": 2,
   "id": "74ef6ee2-f6de-4d8f-86be-b3466cede55c",
   "metadata": {},
   "outputs": [
    {
     "name": "stdout",
     "output_type": "stream",
     "text": [
      "[5, 15, 20, 30, 50, 70, 90]\n"
     ]
    }
   ],
   "source": [
    "def bubblesort(arr):\n",
    "    n=len(arr)\n",
    "    for i in range(n):\n",
    "        for j in range(n-i-1):\n",
    "            if arr[j] > arr[j+1]:\n",
    "                arr[j],arr[j+1] = arr[j+1],arr[j]\n",
    "    return arr\n",
    "\n",
    "arr = [70,20,50,30,90,5,15]\n",
    "bubble_Arr = bubblesort(arr)\n",
    "print(bubble_Arr)\n",
    "            "
   ]
  },
  {
   "cell_type": "markdown",
   "id": "1fff0453-77c8-4299-843f-3d5ea88c92af",
   "metadata": {},
   "source": [
    "## Insertion Sort"
   ]
  },
  {
   "cell_type": "code",
   "execution_count": 3,
   "id": "98323282-6d00-46d5-aaab-4f7690f1c1cd",
   "metadata": {},
   "outputs": [
    {
     "name": "stdout",
     "output_type": "stream",
     "text": [
      "[1, 3, 4, 5, 9]\n"
     ]
    }
   ],
   "source": [
    "def insertionsort(arr):\n",
    "    for i in range(1,n):\n",
    "        key =arr[i]\n",
    "        j=i-1\n",
    "        while j>=0 and arr[j]>key:\n",
    "            arr[j+1]=arr[j]\n",
    "            j=j-1\n",
    "        arr[j+1] = key\n",
    "    return arr\n",
    "arr = [9,5,1,4,3]\n",
    "n= len(arr)\n",
    "print(insertionsort(arr))"
   ]
  },
  {
   "cell_type": "markdown",
   "id": "85842c57-cd87-4606-9da1-96e04c4699a5",
   "metadata": {},
   "source": [
    "## Merge Sort\n"
   ]
  },
  {
   "cell_type": "code",
   "execution_count": 27,
   "id": "aa4c1c38-753f-4216-97df-375de2a8fe06",
   "metadata": {},
   "outputs": [
    {
     "name": "stdout",
     "output_type": "stream",
     "text": [
      "[1, 1, 2, 2, 3, 4, 4, 5, 6]\n"
     ]
    }
   ],
   "source": [
    "def merge_sort(arr,low,high):\n",
    "    if low == high:\n",
    "        return \n",
    "    else:\n",
    "        mid = (low+high) // 2\n",
    "        merge_sort(arr,low,mid)\n",
    "        merge_sort(arr,mid+1,high)\n",
    "        merge(arr,low,mid,high)\n",
    "def merge(arr,low,mid,high):\n",
    "    temp=[]\n",
    "    left = low\n",
    "    right = mid+1\n",
    "    while left<=mid and right<=high:\n",
    "        if arr[left] <= arr[right]:\n",
    "            temp.append(arr[left])\n",
    "            left +=1\n",
    "        else:\n",
    "            temp.append(arr[right])\n",
    "            right +=1\n",
    "    while left<=mid:\n",
    "        temp.append(arr[left])\n",
    "        left +=1\n",
    "    while right<=high:\n",
    "        temp.append(arr[right])\n",
    "        right +=1\n",
    "    for i in range(len(temp)):\n",
    "        arr[low+i] = temp[i]\n",
    "\n",
    " \n",
    "arr = [3, 1, 2, 4, 1, 5, 2, 6, 4]\n",
    "low = 0\n",
    "high = len(arr) - 1\n",
    "merge_sort(arr, low, high)\n",
    "print(arr) \n",
    "        "
   ]
  },
  {
   "cell_type": "code",
   "execution_count": 11,
   "id": "98ec48a1-4c34-4226-a80a-6b0ac8f4b701",
   "metadata": {},
   "outputs": [
    {
     "name": "stdout",
     "output_type": "stream",
     "text": [
      "[1, 1, 2, 2, 3, 4, 4, 5, 6]\n"
     ]
    }
   ],
   "source": [
    "def merge(arr, low, high):\n",
    "    if low == high:\n",
    "        return\n",
    "    else:\n",
    "        # Correct calculation of the mid-point\n",
    "        mid = (low + high) // 2\n",
    "        \n",
    "        # Recursively sort both halves\n",
    "        merge(arr, low, mid)\n",
    "        merge(arr, mid + 1, high)\n",
    "        \n",
    "        # Merge the sorted halves\n",
    "        mergeprocedure(arr, low, mid, high)\n",
    "\n",
    "def mergeprocedure(arr, low, mid, high):\n",
    "    left = low\n",
    "    right = mid + 1\n",
    "    temp = []\n",
    "\n",
    "    # Merging two sorted halves\n",
    "    while left <= mid and right <= high:\n",
    "        if arr[left] <= arr[right]:\n",
    "            temp.append(arr[left])\n",
    "            left += 1\n",
    "        else:\n",
    "            temp.append(arr[right])\n",
    "            right += 1\n",
    "\n",
    "    # If there are remaining elements in the left half\n",
    "    while left <= mid:\n",
    "        temp.append(arr[left])\n",
    "        left += 1\n",
    "\n",
    "    # If there are remaining elements in the right half\n",
    "    while right <= high:\n",
    "        temp.append(arr[right])\n",
    "        right += 1\n",
    "\n",
    "    # Copy the sorted temp array back to the original array\n",
    "    for i in range(len(temp)):\n",
    "        arr[low + i] = temp[i]\n",
    "\n",
    "# Test the merge sort\n",
    "arr = [3, 1, 2, 4, 1, 5, 2, 6, 4]\n",
    "low = 0\n",
    "high = len(arr) - 1\n",
    "merge(arr, low, high)\n",
    "print(arr)  # This should print the sorted array"
   ]
  },
  {
   "cell_type": "markdown",
   "id": "b025b434-2555-4d96-a542-8bed9aba5c33",
   "metadata": {},
   "source": [
    "## Quick Sort"
   ]
  },
  {
   "cell_type": "code",
   "execution_count": 48,
   "id": "4e42b571-5112-4715-bba3-2c1623a2a43c",
   "metadata": {},
   "outputs": [
    {
     "name": "stdout",
     "output_type": "stream",
     "text": [
      "[1, 1, 2, 2, 3, 4, 4, 5, 6]\n"
     ]
    }
   ],
   "source": [
    "def q_sort(arr,low,high):\n",
    "    if low<high:\n",
    "        ps_indx=ps(arr,low,high)\n",
    "        q_sort(arr,low,ps_indx-1)\n",
    "        q_sort(arr,ps_indx+1,high)\n",
    "def ps(arr,low,high):\n",
    "    pivot = arr[low]\n",
    "    i = low+1\n",
    "    j= high\n",
    "    while True:\n",
    "        while i<=high and arr[i]<=pivot:\n",
    "            i +=1\n",
    "        while j>=low and arr[j]>pivot:\n",
    "            j -=1\n",
    "        if i>=j:\n",
    "            break\n",
    "        arr[i],arr[j] = arr[j],arr[i]\n",
    "    arr[low],arr[j] = arr[j],arr[low]\n",
    "    return j\n",
    "arr = [3, 1, 2, 4, 1, 5, 2, 6, 4]\n",
    "low = 0\n",
    "high = len(arr) - 1\n",
    "q_sort(arr, low, high)\n",
    "print(arr)"
   ]
  },
  {
   "cell_type": "code",
   "execution_count": 39,
   "id": "958e98e2-98e0-4eb4-a6cf-ee1ce2f75dff",
   "metadata": {},
   "outputs": [
    {
     "name": "stdout",
     "output_type": "stream",
     "text": [
      "[1, 1, 2, 2, 3, 4, 4, 5, 6]\n"
     ]
    }
   ],
   "source": [
    "def qs(arr, low, high):\n",
    "    if low < high:\n",
    "        ps_index = ps(arr, low, high)\n",
    "        qs(arr, low, ps_index - 1)\n",
    "        qs(arr, ps_index + 1, high)\n",
    "\n",
    "def ps(arr, low, high):\n",
    "    pivot = arr[low]\n",
    "    i = low + 1\n",
    "    j = high\n",
    "\n",
    "    while True:\n",
    "        # Move 'i' to the right until an element larger than the pivot is found\n",
    "        while i <= high and arr[i] <= pivot:\n",
    "            i += 1\n",
    "\n",
    "        # Move 'j' to the left until an element smaller than the pivot is found\n",
    "        while j >= low and arr[j] > pivot:\n",
    "            j -= 1\n",
    "\n",
    "        if i >= j:\n",
    "            break\n",
    "\n",
    "        # Swap elements at i and j\n",
    "        arr[i], arr[j] = arr[j], arr[i]\n",
    "\n",
    "    # Swap the pivot with the element at j\n",
    "    arr[low], arr[j] = arr[j], arr[low]\n",
    "    \n",
    "    return j\n",
    "\n",
    "# Test the quick sort\n",
    "arr = [3, 1, 2, 4, 1, 5, 2, 6, 4]\n",
    "low = 0\n",
    "high = len(arr) - 1\n",
    "qs(arr, low, high)\n",
    "print(arr)  # This should print the sorted array"
   ]
  },
  {
   "cell_type": "code",
   "execution_count": null,
   "id": "919379c7-57be-4edc-ba08-323a37565249",
   "metadata": {},
   "outputs": [],
   "source": []
  }
 ],
 "metadata": {
  "kernelspec": {
   "display_name": "Python 3 (ipykernel)",
   "language": "python",
   "name": "python3"
  },
  "language_info": {
   "codemirror_mode": {
    "name": "ipython",
    "version": 3
   },
   "file_extension": ".py",
   "mimetype": "text/x-python",
   "name": "python",
   "nbconvert_exporter": "python",
   "pygments_lexer": "ipython3",
   "version": "3.12.4"
  }
 },
 "nbformat": 4,
 "nbformat_minor": 5
}
