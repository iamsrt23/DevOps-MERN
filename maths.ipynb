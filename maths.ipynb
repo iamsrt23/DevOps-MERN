{
 "cells": [
  {
   "cell_type": "markdown",
   "id": "d755b969-966c-445d-84e7-db33544686c4",
   "metadata": {},
   "source": [
    "## Digits\n",
    "- Extraction of digits"
   ]
  },
  {
   "cell_type": "markdown",
   "id": "6bb70a77-d6a1-49cf-a4b1-12263971514b",
   "metadata": {},
   "source": [
    "n=int(input(\"enter the value of n: \"))\n",
    "\n",
    "while n>0:\n",
    "    last_digit= n%10\n",
    "    n=int(n/10)\n",
    "    print(last_digit)\n",
    "     \n",
    "\n"
   ]
  },
  {
   "cell_type": "code",
   "execution_count": 19,
   "id": "4be3f272-61fd-4b0a-9b73-5e41e5965656",
   "metadata": {},
   "outputs": [
    {
     "name": "stdout",
     "output_type": "stream",
     "text": [
      "4\n"
     ]
    }
   ],
   "source": [
    "n=2446\n",
    "count = 0\n",
    "\n",
    "while n>0: \n",
    "    digit=n%10\n",
    "    count +=1\n",
    "    n=int(n/10)\n",
    "print(count)"
   ]
  },
  {
   "cell_type": "markdown",
   "id": "0ece4f7b-2bb9-4e58-b956-1ab7a089ffed",
   "metadata": {},
   "source": [
    "### Count the digits"
   ]
  },
  {
   "cell_type": "code",
   "execution_count": null,
   "id": "15ab40ac-c622-412a-955f-dd6082c0be60",
   "metadata": {},
   "outputs": [],
   "source": [
    "# #import math\n",
    "# ##O(log10(n))\n",
    "# n=2446\n",
    "\n",
    "# while n>0:\n",
    "#    # count=int(math.log10(n)+1)\n",
    "# print(count)"
   ]
  },
  {
   "cell_type": "markdown",
   "id": "8c4532de-c9c6-415e-8f1f-8b1db5bbaffa",
   "metadata": {},
   "source": [
    "## Reverse Number"
   ]
  },
  {
   "cell_type": "code",
   "execution_count": 2,
   "id": "ac754f36-15c6-4e9c-9eb5-9cedcce583d7",
   "metadata": {},
   "outputs": [
    {
     "name": "stdout",
     "output_type": "stream",
     "text": [
      "9877\n"
     ]
    }
   ],
   "source": [
    "n=7789\n",
    "reverse_number = 0\n",
    "\n",
    "while n>0:\n",
    "    last_digit=n%10\n",
    "    reverse_number=(reverse_number*10)+last_digit\n",
    "    n=int(n/10)\n",
    "print(reverse_number)"
   ]
  },
  {
   "cell_type": "markdown",
   "id": "4b782782-17ff-489e-8919-75e84fb183be",
   "metadata": {},
   "source": [
    "## Palindrome\n"
   ]
  },
  {
   "cell_type": "code",
   "execution_count": 6,
   "id": "ee3bb121-1691-4c38-a625-2644c3458a6f",
   "metadata": {},
   "outputs": [
    {
     "name": "stdout",
     "output_type": "stream",
     "text": [
      "False\n"
     ]
    }
   ],
   "source": [
    "n=7789\n",
    "reverse_number=0\n",
    "dup =n\n",
    "\n",
    "while n>0:\n",
    "    digit=n%10\n",
    "    reverse_number=(reverse_number*10)+digit\n",
    "    n=int(n/10)\n",
    "if reverse_number==dup:\n",
    "    print(True)\n",
    "else:\n",
    "    print(False)"
   ]
  },
  {
   "cell_type": "markdown",
   "id": "997bd99d-3b86-4a76-a152-00ffd1e64af4",
   "metadata": {},
   "source": [
    "## Armstrong Numbers"
   ]
  },
  {
   "cell_type": "code",
   "execution_count": 1,
   "id": "f0d43ac0-8c4d-41c2-a6cf-31b8997ae00a",
   "metadata": {},
   "outputs": [
    {
     "name": "stdout",
     "output_type": "stream",
     "text": [
      "True\n"
     ]
    }
   ],
   "source": [
    "n=371\n",
    "sum=0\n",
    "dup=n\n",
    "\n",
    "while n>0:\n",
    "    digit=n%10\n",
    "    sum +=digit**3\n",
    "    n=int(n/10)\n",
    "if sum==dup:\n",
    "    print(True)\n",
    "else:\n",
    "    print(False)"
   ]
  },
  {
   "cell_type": "markdown",
   "id": "6c77d121-681d-4ca9-ac77-16956b099b31",
   "metadata": {},
   "source": [
    "## Print All divisions"
   ]
  },
  {
   "cell_type": "code",
   "execution_count": 3,
   "id": "c6ce920d-afce-4a1b-ac62-4e18e77a6383",
   "metadata": {},
   "outputs": [
    {
     "name": "stdout",
     "output_type": "stream",
     "text": [
      "1 2 3 4 6 9 12 18 36 "
     ]
    }
   ],
   "source": [
    "n=36\n",
    "for i in range(1,n+1):\n",
    "    if n%i==0:\n",
    "        print(i,end=\" \")"
   ]
  },
  {
   "cell_type": "code",
   "execution_count": 58,
   "id": "80955a67-01ff-4339-a9e9-4c48ec045e3b",
   "metadata": {},
   "outputs": [
    {
     "name": "stdout",
     "output_type": "stream",
     "text": [
      "[1, 2, 3, 4, 7, 9, 12, 18, 36]\n"
     ]
    }
   ],
   "source": [
    "import math\n",
    "n=36\n",
    "s =int(math.sqrt(n))\n",
    "\n",
    "list=[]\n",
    "for i in range(1,s):\n",
    "    if n%i==0:\n",
    "       list.append(i)\n",
    "    if int(n/i)!=i:\n",
    "        list.append(int(n/i))\n",
    "\n",
    "list.sort()\n",
    "print(list)\n",
    "\n",
    "\n",
    "\n",
    "        \n",
    "\n"
   ]
  },
  {
   "cell_type": "markdown",
   "id": "ba557a21-c969-428a-8cab-7bd967137ece",
   "metadata": {},
   "source": [
    "## Prime number"
   ]
  },
  {
   "cell_type": "code",
   "execution_count": 67,
   "id": "5fa951f4-2425-409b-b5c9-99894b301dd3",
   "metadata": {},
   "outputs": [
    {
     "name": "stdout",
     "output_type": "stream",
     "text": [
      "not a prime number\n"
     ]
    }
   ],
   "source": [
    "n=6\n",
    "count=0\n",
    "for i in range(1,n+1):\n",
    "    if n%i==0:\n",
    "        count+=1\n",
    "\n",
    "if count==2:\n",
    "    print(\"prime number\")\n",
    "else:\n",
    "    print(\"not a prime number\")"
   ]
  },
  {
   "cell_type": "markdown",
   "id": "80f92feb-b5a0-420f-992b-9dc78a81390f",
   "metadata": {},
   "source": [
    "## GCD | HCF\n",
    " - Greatest Common Division\n",
    "\n",
    " - Highest Common Factor"
   ]
  },
  {
   "cell_type": "code",
   "execution_count": 71,
   "id": "6e9c0c8e-908e-4c67-824a-7f4202a541de",
   "metadata": {},
   "outputs": [
    {
     "name": "stdout",
     "output_type": "stream",
     "text": [
      "5\n"
     ]
    }
   ],
   "source": [
    "##\n",
    "a = 20\n",
    "b =5\n",
    "\n",
    "while(a>0 and b>0):\n",
    "    if a>b:\n",
    "        a=a%b\n",
    "    else:\n",
    "        b=b%a\n",
    "if a==0:\n",
    "    print(b)\n",
    "else:\n",
    "    print(a)"
   ]
  },
  {
   "cell_type": "code",
   "execution_count": null,
   "id": "30b0304d-a203-4cf1-acdd-cf6265efcd37",
   "metadata": {},
   "outputs": [],
   "source": []
  }
 ],
 "metadata": {
  "kernelspec": {
   "display_name": "Python 3 (ipykernel)",
   "language": "python",
   "name": "python3"
  },
  "language_info": {
   "codemirror_mode": {
    "name": "ipython",
    "version": 3
   },
   "file_extension": ".py",
   "mimetype": "text/x-python",
   "name": "python",
   "nbconvert_exporter": "python",
   "pygments_lexer": "ipython3",
   "version": "3.12.4"
  }
 },
 "nbformat": 4,
 "nbformat_minor": 5
}
