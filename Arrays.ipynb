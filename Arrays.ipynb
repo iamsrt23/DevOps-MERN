{
 "cells": [
  {
   "cell_type": "markdown",
   "id": "66a52d0d-a9d0-4921-a3c9-5e0ea50ddbc4",
   "metadata": {},
   "source": [
    "## Largest element in an Array"
   ]
  },
  {
   "cell_type": "code",
   "execution_count": 1,
   "id": "af6b8e6e-864a-419c-a46c-a0120d0192a6",
   "metadata": {},
   "outputs": [
    {
     "name": "stdout",
     "output_type": "stream",
     "text": [
      "5\n"
     ]
    }
   ],
   "source": [
    "arr = [3,2,1,5,2]\n",
    "max = arr[0]\n",
    "for i in range(1,len(arr)):\n",
    "    if arr[i] > max:\n",
    "        max=arr[i]\n",
    "print(max)"
   ]
  },
  {
   "cell_type": "markdown",
   "id": "2cba4f01-8dcd-4676-8c57-f0f57816ceeb",
   "metadata": {},
   "source": [
    "## Second Largest element in an array without sorting"
   ]
  },
  {
   "cell_type": "code",
   "execution_count": 2,
   "id": "b4ac9080-a30e-4304-9915-6950b3b0015f",
   "metadata": {},
   "outputs": [
    {
     "name": "stdout",
     "output_type": "stream",
     "text": [
      "7\n",
      "5\n"
     ]
    }
   ],
   "source": [
    "##O(2N)\n",
    "arr = [2,1,4,7,5,7]\n",
    "max = arr[0]\n",
    "second_max = -1\n",
    "\n",
    "for i in range(len(arr)):\n",
    "    if arr[i] > max:\n",
    "        max = arr[i]\n",
    "print(max)\n",
    "for i in range(len(arr)):\n",
    "    if arr[i] > second_max and arr[i] != max:\n",
    "        second_max = arr[i]\n",
    "print(second_max)\n"
   ]
  },
  {
   "cell_type": "code",
   "execution_count": 3,
   "id": "baa4439f-251e-4fa9-a285-eb518bd467d1",
   "metadata": {},
   "outputs": [
    {
     "name": "stdout",
     "output_type": "stream",
     "text": [
      "5\n",
      "2\n"
     ]
    }
   ],
   "source": [
    "## O(N)\n",
    "## second largest and second smallest  \n",
    "import math\n",
    "def second_large(arr,n):\n",
    "    largest = -math.inf\n",
    "    second_large = -math.inf\n",
    "    for i in range(len(arr)):\n",
    "        if arr[i] > largest:\n",
    "            second_large=largest\n",
    "            largest=arr[i]\n",
    "        elif arr[i] < largest and arr[i] > second_large:\n",
    "            second_large = arr[i]\n",
    "    return second_large if second_large != -math.inf else None\n",
    "    \n",
    "def second_small(arr,n):\n",
    "    smallest = math.inf\n",
    "    sec_smallest = math.inf\n",
    "    for i in range(n):\n",
    "        if arr[i] < smallest:\n",
    "            sec_smallest = smallest\n",
    "            smallest = arr[i]\n",
    "        elif arr[i] != smallest and arr[i] < sec_smallest:\n",
    "            sec_smallest = arr[i]\n",
    "    return sec_smallest if sec_smallest != math.inf else None\n",
    "\n",
    "arr = [2,1,4,7,5,7]\n",
    "n=len(arr)\n",
    "\n",
    "print(second_large(arr,n))\n",
    "print(second_small(arr,n))\n"
   ]
  },
  {
   "cell_type": "markdown",
   "id": "84759b48-069b-484f-95b6-14ddb9afcc44",
   "metadata": {},
   "source": [
    "## Check if Array is sorted"
   ]
  },
  {
   "cell_type": "code",
   "execution_count": 4,
   "id": "06f34be1-6e64-47ab-8926-9f5b2f4546ff",
   "metadata": {},
   "outputs": [
    {
     "name": "stdout",
     "output_type": "stream",
     "text": [
      "False\n"
     ]
    }
   ],
   "source": [
    "def is_sorted(arr):\n",
    "    for i in range(1,len(arr)):\n",
    "        if arr[i] < arr[i-1]:\n",
    "            return False\n",
    "    return True\n",
    "\n",
    "arr = [1,2,3,5,6,5,3]\n",
    "print(is_sorted(arr))\n",
    "        "
   ]
  },
  {
   "cell_type": "markdown",
   "id": "7dc5c6b3-0c14-4ad5-a082-787901858f4f",
   "metadata": {},
   "source": [
    "## Remove Duplicates"
   ]
  },
  {
   "cell_type": "code",
   "execution_count": 5,
   "id": "35de02a1-71ef-4407-ba19-c084857c3f92",
   "metadata": {},
   "outputs": [
    {
     "name": "stdout",
     "output_type": "stream",
     "text": [
      "[1, 2, 3]\n"
     ]
    }
   ],
   "source": [
    "## Brute force Approach\n",
    "arr = [2,2,2,3,3,1,1]\n",
    "arr_2 = set()\n",
    "\n",
    "for i in range(len(arr)):\n",
    "    arr_2.add(arr[i])\n",
    "print(list(arr_2))"
   ]
  },
  {
   "cell_type": "code",
   "execution_count": 6,
   "id": "994624f4-c956-40de-ac76-af7663355ced",
   "metadata": {},
   "outputs": [
    {
     "name": "stdout",
     "output_type": "stream",
     "text": [
      "2\n",
      "3\n",
      "1\n"
     ]
    }
   ],
   "source": [
    "## optimal approach (2-pointer method)\n",
    "arr = [2,2,2,3,3,1,1]\n",
    "\n",
    "for i in range(len(arr)-1):\n",
    "    if arr[i] != arr[i+1]:\n",
    "        print(arr[i])\n",
    "\n",
    "print(arr[-1])\n",
    "        "
   ]
  },
  {
   "cell_type": "code",
   "execution_count": 7,
   "id": "2bd48259-3776-4a43-b56a-b280b50aacbe",
   "metadata": {},
   "outputs": [
    {
     "name": "stdout",
     "output_type": "stream",
     "text": [
      "4\n"
     ]
    }
   ],
   "source": [
    "arr = [2,2,2,3,3,1,1,5,5]\n",
    "i = 0\n",
    "for j in range(1,len(arr)):\n",
    "    if arr[j] != arr[i]:\n",
    "        arr[i+1] = arr[j]\n",
    "        i +=1\n",
    "print(i+1)"
   ]
  },
  {
   "cell_type": "markdown",
   "id": "7a54c8a4-7309-4336-bf0f-06c93d5908fc",
   "metadata": {},
   "source": [
    "## left rotate an array by one place"
   ]
  },
  {
   "cell_type": "code",
   "execution_count": 8,
   "id": "668e0eb2-9417-4cf9-872b-f04214106837",
   "metadata": {},
   "outputs": [
    {
     "name": "stdout",
     "output_type": "stream",
     "text": [
      "[2, 3, 4, 5, 1]\n"
     ]
    }
   ],
   "source": [
    "\n",
    "arr = [1,2,3,4,5]\n",
    "n= len(arr)\n",
    "\n",
    "temp = arr[0]\n",
    " \n",
    "for i in range(1,n):\n",
    "   arr[i-1] = arr[i]\n",
    "arr[n-1] = temp\n",
    "print(arr)\n",
    "\n"
   ]
  },
  {
   "cell_type": "code",
   "execution_count": 9,
   "id": "e80c89d8-c817-4331-bbb1-40f69ff45643",
   "metadata": {},
   "outputs": [],
   "source": [
    "# ## 2 elements to left\n",
    "# arr = [1,2,3,4,5]\n",
    "# n= len(arr)\n",
    "\n",
    "# temp = arr[0]\n",
    " \n",
    "# for i in range(1,n):\n",
    "#    arr[i-2] = arr[i]\n",
    "# arr[n-2] = temp\n",
    "# print(arr)\n",
    "\n"
   ]
  },
  {
   "cell_type": "markdown",
   "id": "f44c0c17-f7d1-4995-aa5e-d04974df0137",
   "metadata": {},
   "source": [
    "## Left rotate by d places"
   ]
  },
  {
   "cell_type": "code",
   "execution_count": 1,
   "id": "0bafb120-fcc7-4dcf-8b5d-83fee3858740",
   "metadata": {},
   "outputs": [
    {
     "name": "stdout",
     "output_type": "stream",
     "text": [
      "3\n",
      "[4, 5, 6, 7, 1, 2, 3]\n"
     ]
    }
   ],
   "source": [
    "## bruteforce\n",
    "def left_d_place(arr,n,d):\n",
    "    d = d % n\n",
    "    temp = [0] * d\n",
    "    for i in range(0,d):\n",
    "        temp[i] = arr[i]\n",
    "    for i in range(d,n):\n",
    "        arr[i-d] = arr[i]\n",
    "    for i in range(n-d,n):\n",
    "        arr[i] = temp[i-(n-d)]\n",
    "    return arr\n",
    "\n",
    "arr = [1,2,3,4,5,6,7]\n",
    "n= len(arr)\n",
    "d=3\n",
    "print(d%n)\n",
    "print(left_d_place(arr,n,d))\n",
    "    "
   ]
  },
  {
   "cell_type": "code",
   "execution_count": 11,
   "id": "3a62fbe8-4ba2-4621-bd6b-e8245f2998eb",
   "metadata": {},
   "outputs": [
    {
     "name": "stdout",
     "output_type": "stream",
     "text": [
      "[4, 5, 6, 7, 1, 2, 3]\n"
     ]
    }
   ],
   "source": [
    "def reverse(arr, start, end):\n",
    "    while start < end:\n",
    "        arr[start], arr[end] = arr[end], arr[start]\n",
    "        start += 1\n",
    "        end -= 1\n",
    "\n",
    "def left_d_place(arr, n, d):\n",
    "    d = d % n  # To handle cases where d > n\n",
    "\n",
    "    # Step 1: Reverse the first d elements\n",
    "    reverse(arr, 0, d - 1)\n",
    "\n",
    "    # Step 2: Reverse the remaining elements\n",
    "    reverse(arr, d, n - 1)\n",
    "\n",
    "    # Step 3: Reverse the entire array\n",
    "    reverse(arr, 0, n - 1)\n",
    "\n",
    "    return arr  # Return the rotated array\n",
    "\n",
    "# Example usage\n",
    "arr = [1, 2, 3, 4, 5, 6, 7]\n",
    "n = len(arr)\n",
    "d = 3\n",
    "print(left_d_place(arr, n, d))  # Output should be [4, 5, 6, 7, 1, 2, 3]"
   ]
  },
  {
   "cell_type": "code",
   "execution_count": 12,
   "id": "1796cbcd-962e-4771-8c7f-861606c57b7e",
   "metadata": {},
   "outputs": [
    {
     "name": "stdout",
     "output_type": "stream",
     "text": [
      "[5, 6, 7, 1, 2, 3, 4]\n"
     ]
    }
   ],
   "source": [
    "def reversearray(arr,start,end):\n",
    "    while start < end:\n",
    "        arr[start],arr[end] = arr[end],arr[start]\n",
    "        start +=1\n",
    "        end -=1\n",
    "def left_d_plcaed(arr,n,d):\n",
    "    reversearray(arr,0,d-1)\n",
    "    reversearray(arr,d,n-1)\n",
    "    reversearray(arr,0,n-1)\n",
    "    return arr\n",
    "arr = [1,2,3,4,5,6,7]\n",
    "n=len(arr)\n",
    "d=4\n",
    "print(left_d_plcaed(arr,n,d))"
   ]
  },
  {
   "cell_type": "markdown",
   "id": "57d0e462-2c2e-403b-9b2f-762c403a7a8a",
   "metadata": {},
   "source": [
    "## Move 0's to end"
   ]
  },
  {
   "cell_type": "code",
   "execution_count": 13,
   "id": "6d9a4606-0833-48fc-b6be-9dde25af6b25",
   "metadata": {},
   "outputs": [
    {
     "name": "stdout",
     "output_type": "stream",
     "text": [
      "[1, 1, 2, 2, 3, 4, 5, 0, 0, 0]\n"
     ]
    }
   ],
   "source": [
    "arr = [1,0,2,3,2,0,0,4,5,1]\n",
    "list1 = []\n",
    "list2 =[]\n",
    "n= len(arr)\n",
    "for i in range(len(arr)):\n",
    "    if arr[i] !=0 :\n",
    "        list1.append(arr[i])\n",
    "        list1.sort()\n",
    "    else:\n",
    "        list2.append(arr[i])\n",
    "print(list1+list2)"
   ]
  },
  {
   "cell_type": "markdown",
   "id": "2915fcfd-895c-46d9-96a8-b267f86de587",
   "metadata": {},
   "source": [
    "## Linear Search"
   ]
  },
  {
   "cell_type": "code",
   "execution_count": 14,
   "id": "104548cb-24ad-4850-a7f2-d0ecd52f050d",
   "metadata": {},
   "outputs": [
    {
     "name": "stdout",
     "output_type": "stream",
     "text": [
      "1\n"
     ]
    }
   ],
   "source": [
    "arr = [6,4,7,8,1]\n",
    "num=4\n",
    "\n",
    "for i in range(len(arr)):\n",
    "    if arr[i] == num:\n",
    "        print(i)\n"
   ]
  },
  {
   "cell_type": "markdown",
   "id": "01435f40-fb2f-413c-9af1-008dd639a3fa",
   "metadata": {},
   "source": [
    "## Union"
   ]
  },
  {
   "cell_type": "code",
   "execution_count": 21,
   "id": "9f24df6b-6167-4095-8eb5-3fb1956d9121",
   "metadata": {},
   "outputs": [
    {
     "name": "stdout",
     "output_type": "stream",
     "text": [
      "1 2 3 4 5 6 "
     ]
    }
   ],
   "source": [
    "arr1 = [1,1,2,3,4,5]\n",
    "arr2 = [2,3,4,4,5,6]\n",
    "\n",
    "union = set()\n",
    "\n",
    "for i in range(len(arr1)):\n",
    "    if arr1[i] not in union:\n",
    "        union.add(arr1[i])\n",
    "for i in range(len(arr2)):\n",
    "    if arr2[i] not in union:\n",
    "        union.add(arr2[i])\n",
    "\n",
    "for val in union:\n",
    "    print(val,end=\" \")"
   ]
  },
  {
   "cell_type": "code",
   "execution_count": null,
   "id": "9e52e1b9-86b6-4bfe-98d4-6f58feb35be8",
   "metadata": {},
   "outputs": [],
   "source": [
    "\n",
    "            \n",
    "            "
   ]
  },
  {
   "cell_type": "code",
   "execution_count": 16,
   "id": "50f9d21c-f032-4ce8-bd18-74173ef93c76",
   "metadata": {},
   "outputs": [
    {
     "ename": "IndexError",
     "evalue": "list index out of range",
     "output_type": "error",
     "traceback": [
      "\u001b[0;31m---------------------------------------------------------------------------\u001b[0m",
      "\u001b[0;31mIndexError\u001b[0m                                Traceback (most recent call last)",
      "Cell \u001b[0;32mIn[16], line 22\u001b[0m\n\u001b[1;32m     20\u001b[0m arr1 \u001b[38;5;241m=\u001b[39m [\u001b[38;5;241m1\u001b[39m,\u001b[38;5;241m1\u001b[39m,\u001b[38;5;241m2\u001b[39m,\u001b[38;5;241m3\u001b[39m,\u001b[38;5;241m4\u001b[39m,\u001b[38;5;241m5\u001b[39m]\n\u001b[1;32m     21\u001b[0m arr2 \u001b[38;5;241m=\u001b[39m [\u001b[38;5;241m2\u001b[39m,\u001b[38;5;241m3\u001b[39m,\u001b[38;5;241m4\u001b[39m,\u001b[38;5;241m4\u001b[39m,\u001b[38;5;241m5\u001b[39m,\u001b[38;5;241m6\u001b[39m]\n\u001b[0;32m---> 22\u001b[0m \u001b[38;5;28mprint\u001b[39m(union_arr(arr1,arr2))\n",
      "Cell \u001b[0;32mIn[16], line 11\u001b[0m, in \u001b[0;36munion_arr\u001b[0;34m(arr1, arr2)\u001b[0m\n\u001b[1;32m      9\u001b[0m \u001b[38;5;28;01mwhile\u001b[39;00m i\u001b[38;5;241m<\u001b[39mn1 \u001b[38;5;129;01mand\u001b[39;00m j \u001b[38;5;241m<\u001b[39mn2:\n\u001b[1;32m     10\u001b[0m     \u001b[38;5;28;01mif\u001b[39;00m arr1[i] \u001b[38;5;241m<\u001b[39m\u001b[38;5;241m=\u001b[39m arr2[j]:\n\u001b[0;32m---> 11\u001b[0m         \u001b[38;5;28;01mif\u001b[39;00m (\u001b[38;5;28mlen\u001b[39m(union_Arr) \u001b[38;5;241m==\u001b[39m\u001b[38;5;241m0\u001b[39m \u001b[38;5;129;01mor\u001b[39;00m union_Arr[i\u001b[38;5;241m-\u001b[39m\u001b[38;5;241m1\u001b[39m] \u001b[38;5;241m!=\u001b[39m arr1[i]):\n\u001b[1;32m     12\u001b[0m             union_Arr\u001b[38;5;241m.\u001b[39mappend(arr1[i])\n\u001b[1;32m     13\u001b[0m         i \u001b[38;5;241m+\u001b[39m\u001b[38;5;241m=\u001b[39m\u001b[38;5;241m1\u001b[39m\n",
      "\u001b[0;31mIndexError\u001b[0m: list index out of range"
     ]
    }
   ],
   "source": [
    "##optimal solution\n",
    "\n",
    "def union_arr(arr1,arr2):\n",
    "    n1 = len(arr1)\n",
    "    n2 = len(arr2)\n",
    "    i =0\n",
    "    j=0\n",
    "    union_Arr = []\n",
    "    while i<n1 and j <n2:\n",
    "        if arr1[i] <= arr2[j]:\n",
    "            if (len(union_Arr) ==0 or union_Arr[i-1] != arr1[i]):\n",
    "                union_Arr.append(arr1[i])\n",
    "            i +=1\n",
    "        else:\n",
    "            if (len(union_Arr) ==0 or union_Arr[j-1] != arr2[j]):\n",
    "                union_Arr.append(arr2[j])\n",
    "            j +=1\n",
    "    return union_Arr\n",
    "\n",
    "arr1 = [1,1,2,3,4,5]\n",
    "arr2 = [2,3,4,4,5,6]\n",
    "print(union_arr(arr1,arr2))"
   ]
  },
  {
   "cell_type": "code",
   "execution_count": 17,
   "id": "c869c320-f8e9-4fb3-8a87-41abbcd8e930",
   "metadata": {},
   "outputs": [
    {
     "name": "stdout",
     "output_type": "stream",
     "text": [
      "[1, 2, 3, 4, 5, 6]\n"
     ]
    }
   ],
   "source": [
    "def union_arr(arr1, arr2):\n",
    "    n1 = len(arr1)\n",
    "    n2 = len(arr2)\n",
    "    i, j = 0, 0\n",
    "    union_Arr = []\n",
    "\n",
    "    while i < n1 and j < n2:\n",
    "        # Add the smaller element and skip duplicates\n",
    "        if arr1[i] < arr2[j]:\n",
    "            if len(union_Arr) == 0 or union_Arr[-1] != arr1[i]:\n",
    "                union_Arr.append(arr1[i])\n",
    "            i += 1\n",
    "        elif arr1[i] > arr2[j]:\n",
    "            if len(union_Arr) == 0 or union_Arr[-1] != arr2[j]:\n",
    "                union_Arr.append(arr2[j])\n",
    "            j += 1\n",
    "        else:  # arr1[i] == arr2[j]\n",
    "            if len(union_Arr) == 0 or union_Arr[-1] != arr1[i]:\n",
    "                union_Arr.append(arr1[i])\n",
    "            i += 1\n",
    "            j += 1\n",
    "\n",
    "    # Add remaining elements from arr1\n",
    "    while i < n1:\n",
    "        if union_Arr[-1] != arr1[i]:\n",
    "            union_Arr.append(arr1[i])\n",
    "        i += 1\n",
    "\n",
    "    # Add remaining elements from arr2\n",
    "    while j < n2:\n",
    "        if union_Arr[-1] != arr2[j]:\n",
    "            union_Arr.append(arr2[j])\n",
    "        j += 1\n",
    "\n",
    "    return union_Arr\n",
    "\n",
    "# Example usage\n",
    "arr1 = [1, 1, 2, 3, 4, 5]\n",
    "arr2 = [2, 3, 4, 4, 5, 6]\n",
    "print(union_arr(arr1, arr2))  # Output should be [1, 2, 3, 4, 5, 6]"
   ]
  },
  {
   "cell_type": "markdown",
   "id": "72030547-c010-4ebe-9e7e-a84d59245ea3",
   "metadata": {},
   "source": [
    "## Intersection"
   ]
  },
  {
   "cell_type": "code",
   "execution_count": 26,
   "id": "027bfd8a-71c8-4ae3-8820-2f247a18a30c",
   "metadata": {},
   "outputs": [
    {
     "name": "stdout",
     "output_type": "stream",
     "text": [
      "[2, 3, 5, 6]\n"
     ]
    }
   ],
   "source": [
    "arr1 = [1,2,2,3,3,4,5,6]\n",
    "arr2 = [2,3,3,5,6,6,7]\n",
    "\n",
    "intersection = set()\n",
    "for num in arr2:\n",
    "    if num in arr1:\n",
    "        intersection.add(num)\n",
    "print(sorted(intersection))\n",
    "    "
   ]
  },
  {
   "cell_type": "markdown",
   "id": "8d80a292-a15d-4512-a05f-863d58d35136",
   "metadata": {},
   "source": [
    "## Missing Numbers"
   ]
  },
  {
   "cell_type": "code",
   "execution_count": 5,
   "id": "170cb8bd-7590-45ba-9a67-9321b8ae5fb7",
   "metadata": {},
   "outputs": [
    {
     "name": "stdout",
     "output_type": "stream",
     "text": [
      "1\n"
     ]
    }
   ],
   "source": [
    "## Brute Force o(N **2)\n",
    "arr = [2,2]\n",
    "\n",
    "for i in range(1,len(arr)):\n",
    "    flag = False\n",
    "    for j in range(len(arr)-1):\n",
    "        if arr[j] == i:\n",
    "            flag = True\n",
    "            break\n",
    "    if flag == False:\n",
    "        print(i)"
   ]
  },
  {
   "cell_type": "code",
   "execution_count": 6,
   "id": "dba28696-f533-46d0-883a-6b8abe10d935",
   "metadata": {},
   "outputs": [],
   "source": [
    "## Optimal solution sum of n natural number"
   ]
  },
  {
   "cell_type": "code",
   "execution_count": 24,
   "id": "ca116185-1996-423d-b743-ca6af249c6a4",
   "metadata": {},
   "outputs": [
    {
     "name": "stdout",
     "output_type": "stream",
     "text": [
      "3\n"
     ]
    }
   ],
   "source": [
    "## XOR solution\n",
    "\n",
    "arr = [1,2,4,5,6]\n",
    "N=5\n",
    "n=N-1\n",
    "xor1 = 0\n",
    "xor2 = 0\n",
    "for i in range(n):\n",
    "    xor2 = xor2 ^ arr[i]\n",
    "    xor1 = xor1 ^ (i+1)\n",
    "xor1 = xor1^N\n",
    "print(xor1 ^ xor2)"
   ]
  },
  {
   "cell_type": "code",
   "execution_count": 23,
   "id": "bf94ee8a-c2f9-44ed-848c-e540679ed59a",
   "metadata": {},
   "outputs": [
    {
     "name": "stdout",
     "output_type": "stream",
     "text": [
      "1\n"
     ]
    }
   ],
   "source": [
    "print(0^1)"
   ]
  },
  {
   "cell_type": "markdown",
   "id": "249706ca-244b-4ac3-99a9-f5690e22157a",
   "metadata": {},
   "source": [
    "## Maximum consecutive of 1's"
   ]
  },
  {
   "cell_type": "code",
   "execution_count": 25,
   "id": "347924c1-e016-41f6-87c6-37c67922eb7b",
   "metadata": {},
   "outputs": [
    {
     "name": "stdout",
     "output_type": "stream",
     "text": [
      "3\n"
     ]
    }
   ],
   "source": [
    "arr = [1,1,0,1,1,1]\n",
    "\n",
    "count = 0\n",
    "maxl = 0\n",
    "for i in range(len(arr)):\n",
    "    if arr[i] == 1:\n",
    "        count +=1\n",
    "        maxl = max(maxl,count)\n",
    "    else:\n",
    "        count=0\n",
    "print(maxl)"
   ]
  },
  {
   "cell_type": "markdown",
   "id": "a2a632b5-2d0d-4083-a336-e7fbb8721edf",
   "metadata": {},
   "source": [
    "## find the number appear once or twice"
   ]
  },
  {
   "cell_type": "code",
   "execution_count": 27,
   "id": "ee4b7876-f41f-4fac-8698-251b07c2d80d",
   "metadata": {},
   "outputs": [
    {
     "name": "stdout",
     "output_type": "stream",
     "text": [
      "3\n"
     ]
    }
   ],
   "source": [
    "arr = [1,1,2,2,3,4,4]\n",
    "for num in arr:\n",
    "    count = 0\n",
    "    for i in range(len(arr)):\n",
    "        if arr[i] == num:\n",
    "            count +=1\n",
    "    if count ==1:\n",
    "        print(num)\n",
    "        "
   ]
  },
  {
   "cell_type": "code",
   "execution_count": 30,
   "id": "e8ee94a3-7666-4590-b22a-d3c44dde7cfa",
   "metadata": {},
   "outputs": [
    {
     "name": "stdout",
     "output_type": "stream",
     "text": [
      "(2, 1)\n"
     ]
    }
   ],
   "source": [
    "def findTwoElement(arr):\n",
    "    n = len(arr)\n",
    "    sum_n = n * (n + 1) // 2  \n",
    "    sum_square_n = n * (n + 1) * (2 * n + 1) // 6 \n",
    "    sum_arr = sum(arr)\n",
    "    sum_square_arr = sum(x * x for x in arr)\n",
    "\n",
    "    diff = sum_n - sum_arr \n",
    "    diff_square = sum_square_n - sum_square_arr  \n",
    "\n",
    "    sum_val = diff_square // diff  \n",
    "\n",
    "    missing = (diff + sum_val) // 2\n",
    "    duplicate = sum_val - missing\n",
    "\n",
    "    return duplicate, missing \n",
    "\n",
    "arr = [2,2]\n",
    "print(findTwoElement(arr))"
   ]
  },
  {
   "cell_type": "markdown",
   "id": "ebbe7b86-9450-4566-9f0b-4f0bfc71fa4f",
   "metadata": {},
   "source": [
    "## longest sub array with given sum"
   ]
  },
  {
   "cell_type": "code",
   "execution_count": 10,
   "id": "1303d410-799c-48c7-a240-06f35c0fe4be",
   "metadata": {},
   "outputs": [
    {
     "name": "stdout",
     "output_type": "stream",
     "text": [
      "0\n",
      "0\n",
      "0\n",
      "0\n",
      "0\n",
      "0\n",
      "0\n",
      "0\n",
      "0\n",
      "0\n"
     ]
    }
   ],
   "source": [
    "arr = [1,2,3,1,1,1,1,4,2,3]\n",
    "k=3\n",
    "maxlen=0\n",
    "\n",
    "for i in range(len(arr)):\n",
    "    for j in range(i,len(arr)):\n",
    "        sum = 0\n",
    "        for k in range(i,j):\n",
    "            sum += arr[k]\n",
    "        if sum == k:\n",
    "            maxlen==max(maxlen,i+1)\n",
    "    print(maxlen)\n",
    "        \n",
    "        "
   ]
  },
  {
   "cell_type": "code",
   "execution_count": 18,
   "id": "7c499120-0661-4f49-899d-4ca80850359a",
   "metadata": {},
   "outputs": [
    {
     "name": "stdout",
     "output_type": "stream",
     "text": [
      "Length of the longest subarray with sum 4 : 5\n"
     ]
    }
   ],
   "source": [
    "def longest_subarray_with_sum_k(arr, k):\n",
    "    max_len = 0\n",
    "    current_sum = 0\n",
    "    sum_map = {}  # Dictionary to store the first occurrence of each prefix sum\n",
    "\n",
    "    for i in range(len(arr)):\n",
    "        current_sum += arr[i]\n",
    "\n",
    "        # If the current sum is exactly k, update max_len for the entire subarray [0...i]\n",
    "        if current_sum == k:\n",
    "            max_len = i + 1\n",
    "\n",
    "        # If current_sum - k is found, then there's a subarray with sum k\n",
    "        if (current_sum - k) in sum_map:\n",
    "            max_len = max(max_len, i - sum_map[current_sum - k])\n",
    "\n",
    "        # Store current_sum in sum_map if it hasn't been seen before\n",
    "        if current_sum not in sum_map:\n",
    "            sum_map[current_sum] = i\n",
    "\n",
    "    return max_len\n",
    "\n",
    "# Example usage\n",
    "arr = [1, 2, 3, -3, 1, 1, 1, 4, 2, -3]\n",
    "k = 4\n",
    "print(\"Length of the longest subarray with sum\", k, \":\", longest_subarray_with_sum_k(arr, k))"
   ]
  },
  {
   "cell_type": "code",
   "execution_count": null,
   "id": "13705c4b-8091-4ef3-9726-6b958b664c7f",
   "metadata": {},
   "outputs": [],
   "source": []
  }
 ],
 "metadata": {
  "kernelspec": {
   "display_name": "Python 3 (ipykernel)",
   "language": "python",
   "name": "python3"
  },
  "language_info": {
   "codemirror_mode": {
    "name": "ipython",
    "version": 3
   },
   "file_extension": ".py",
   "mimetype": "text/x-python",
   "name": "python",
   "nbconvert_exporter": "python",
   "pygments_lexer": "ipython3",
   "version": "3.12.4"
  }
 },
 "nbformat": 4,
 "nbformat_minor": 5
}
