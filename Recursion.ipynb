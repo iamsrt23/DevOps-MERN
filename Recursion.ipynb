{
 "cells": [
  {
   "cell_type": "markdown",
   "id": "35353c8f-b6cc-4204-8184-b45fb69059e2",
   "metadata": {},
   "source": [
    "### Basic Recursion Problems\n"
   ]
  },
  {
   "cell_type": "code",
   "execution_count": 69,
   "id": "b6370668-0848-4861-ac60-7d3232ad3b39",
   "metadata": {},
   "outputs": [
    {
     "name": "stdout",
     "output_type": "stream",
     "text": [
      "My name is raviteja\n",
      "My name is raviteja\n",
      "My name is raviteja\n",
      "My name is raviteja\n",
      "My name is raviteja\n"
     ]
    }
   ],
   "source": [
    "## print name 5 times\n",
    "## Time Complexity O(N)\n",
    "## Space Complexity O(N)-->computer internal memory uses the stack space\n",
    "\n",
    "def name(i,n):\n",
    "    if i>n:\n",
    "        return\n",
    "    else:\n",
    "        print(\"My name is raviteja\")\n",
    "        return name(i+1,n)\n",
    "\n",
    "name(1,5)\n",
    "    \n",
    "\n"
   ]
  },
  {
   "cell_type": "code",
   "execution_count": 70,
   "id": "42ab7ad4-5682-4495-aa0c-473125b93b42",
   "metadata": {},
   "outputs": [
    {
     "name": "stdout",
     "output_type": "stream",
     "text": [
      "1\n",
      "2\n",
      "3\n",
      "4\n"
     ]
    }
   ],
   "source": [
    "## print linearly from 1 to N\n",
    "\n",
    "def print_linearly(i,N):\n",
    "    if i>N:\n",
    "        return\n",
    "    else:\n",
    "        print(i)\n",
    "        return print_linearly(i+1,N)\n",
    "print_linearly(1,4)"
   ]
  },
  {
   "cell_type": "code",
   "execution_count": 74,
   "id": "f8332dfd-a82a-4772-9b25-d75cedb71b70",
   "metadata": {},
   "outputs": [
    {
     "name": "stdout",
     "output_type": "stream",
     "text": [
      "4\n",
      "3\n",
      "2\n",
      "1\n"
     ]
    }
   ],
   "source": [
    "## print linearly from N to 1\n",
    "def desc(i,N):\n",
    "    if i< 1:\n",
    "        return\n",
    "    else:\n",
    "        print(i)\n",
    "        return desc(i-1,N)\n",
    "N=4\n",
    "desc(N,N)\n"
   ]
  },
  {
   "cell_type": "code",
   "execution_count": 88,
   "id": "804b503d-468e-45b7-9c50-b2ad112b8680",
   "metadata": {},
   "outputs": [
    {
     "name": "stdout",
     "output_type": "stream",
     "text": [
      "1\n",
      "2\n",
      "3\n",
      "4\n"
     ]
    }
   ],
   "source": [
    "## print linearly from 1 to N (back track)\n",
    "def plb(i,n):\n",
    "    if i < 1:\n",
    "        return\n",
    "    else:\n",
    "        plb(i-1, n)\n",
    "        print(i)\n",
    "plb(4,4)"
   ]
  },
  {
   "cell_type": "code",
   "execution_count": 91,
   "id": "d0d6aaf3-a9ed-418c-b473-91a85ca34873",
   "metadata": {},
   "outputs": [
    {
     "name": "stdout",
     "output_type": "stream",
     "text": [
      "4\n",
      "3\n",
      "2\n",
      "1\n"
     ]
    }
   ],
   "source": [
    "## print linearly from N to 1(backtrack)\n",
    "def pbr(i,n):\n",
    "    if i>n:\n",
    "        return\n",
    "    else:\n",
    "        pbr(i+1,n)\n",
    "        print(i)\n",
    "pbr(1,4)"
   ]
  },
  {
   "cell_type": "code",
   "execution_count": 93,
   "id": "f2a62bd6-96aa-4662-bf6c-f83ff4b38d00",
   "metadata": {},
   "outputs": [
    {
     "name": "stdout",
     "output_type": "stream",
     "text": [
      "36\n"
     ]
    }
   ],
   "source": [
    "## sum of first N numbers\n",
    "## Parameter wise\n",
    "\n",
    "def parameter(i,sum):\n",
    "    if i<1:\n",
    "        print(sum)\n",
    "        return\n",
    "    else:\n",
    "        return parameter(i-1,sum+i)\n",
    "parameter(8,0)\n",
    "\n"
   ]
  },
  {
   "cell_type": "code",
   "execution_count": 94,
   "id": "612c391d-243b-42ee-9c51-32877827f48d",
   "metadata": {},
   "outputs": [
    {
     "data": {
      "text/plain": [
       "6"
      ]
     },
     "execution_count": 94,
     "metadata": {},
     "output_type": "execute_result"
    }
   ],
   "source": [
    "## sum of first N numbers\n",
    "##functional wise\n",
    "\n",
    "def number(n):\n",
    "    if n==0:\n",
    "        return 0\n",
    "    else:\n",
    "        return n+number(n-1)\n",
    "\n",
    "number(3)"
   ]
  },
  {
   "cell_type": "code",
   "execution_count": 116,
   "id": "53739f13-860b-443a-a0b9-d22f7adb91cf",
   "metadata": {},
   "outputs": [],
   "source": [
    "## Reverse an Array\n"
   ]
  },
  {
   "cell_type": "code",
   "execution_count": 117,
   "id": "1465452d-4ebd-4b26-a99b-d155bfaaf52e",
   "metadata": {},
   "outputs": [
    {
     "name": "stdout",
     "output_type": "stream",
     "text": [
      "[9, 8, 7, 6, 5, 4]\n"
     ]
    }
   ],
   "source": [
    "## 2-pointer method\n",
    "\n",
    "def reverse_aray(arr,l,r):\n",
    "    if l>=r:\n",
    "        return\n",
    "    else:\n",
    "        arr[l], arr[r] = arr[r], arr[l]\n",
    "        reverse_aray(arr, l+1 ,r-1)\n",
    "arr = [4,5,6,7,8,9]\n",
    "l=0\n",
    "r = len(arr)-1\n",
    "reverse_aray(arr,l,r)\n",
    "print(arr)"
   ]
  },
  {
   "cell_type": "code",
   "execution_count": 128,
   "id": "6b4064aa-6f1f-4821-b6a9-0b57e908a279",
   "metadata": {},
   "outputs": [
    {
     "name": "stdout",
     "output_type": "stream",
     "text": [
      "[9, 8, 6, 7, 5, 4]\n"
     ]
    }
   ],
   "source": [
    "## 1-pointer method\n",
    "\n",
    "def reverse(arr,i):\n",
    "    if i>n/2:\n",
    "        return\n",
    "    else:\n",
    "        arr[i],arr[n-i-1] =arr[n-i-1],arr[i]\n",
    "        reverse(arr,i+1)\n",
    "arr=[4,5,6,7,8,9]\n",
    "i=0\n",
    "n= len(arr)\n",
    "reverse(arr,i)\n",
    "print(arr)"
   ]
  },
  {
   "cell_type": "code",
   "execution_count": 135,
   "id": "43768590-c704-4156-90ba-4622bb8c905d",
   "metadata": {},
   "outputs": [
    {
     "data": {
      "text/plain": [
       "True"
      ]
     },
     "execution_count": 135,
     "metadata": {},
     "output_type": "execute_result"
    }
   ],
   "source": [
    "## palindrome string\n",
    "def palindrome(name,i):\n",
    "    if i>=n/2:\n",
    "        return True\n",
    "    elif name[i] != name[n-i-1]:\n",
    "            return False\n",
    "    else:\n",
    "        return palindrome(name,i+1)\n",
    "name=\"madam\"\n",
    "i=0\n",
    "n=len(name)\n",
    "palindrome(name,i)\n",
    "\n",
    "        \n",
    "    "
   ]
  },
  {
   "cell_type": "code",
   "execution_count": 137,
   "id": "e4a4b7f3-e19c-4cb5-8fb1-316e21a3396e",
   "metadata": {},
   "outputs": [
    {
     "name": "stdout",
     "output_type": "stream",
     "text": [
      "not palindrome\n"
     ]
    }
   ],
   "source": [
    "# name=\"raviteja\"\n",
    "# if name==name[::-1]:\n",
    "#     print(\"palindrome\")\n",
    "# else:\n",
    "#     print(\"not palindrome\")"
   ]
  },
  {
   "cell_type": "code",
   "execution_count": 138,
   "id": "9f7fa5dd-7d78-43a7-afc5-026c9af6c7e5",
   "metadata": {},
   "outputs": [],
   "source": [
    "##fibinaci number"
   ]
  },
  {
   "cell_type": "code",
   "execution_count": 145,
   "id": "0399a353-3a8d-4a24-a4e2-559642449178",
   "metadata": {},
   "outputs": [
    {
     "name": "stdout",
     "output_type": "stream",
     "text": [
      "3\n",
      "5\n"
     ]
    }
   ],
   "source": [
    "def fibonaccinumber(num):\n",
    "    if num<=1:\n",
    "        return num\n",
    "    else:\n",
    "        return fibonaccinumber(num-1)+fibonaccinumber(num-2)\n",
    "print(fibonaccinumber(4))\n",
    "print(fibonaccinumber(5))"
   ]
  },
  {
   "cell_type": "code",
   "execution_count": null,
   "id": "796fb0b8-6eb7-45d0-b6e4-4cfe8f27a248",
   "metadata": {},
   "outputs": [],
   "source": []
  }
 ],
 "metadata": {
  "kernelspec": {
   "display_name": "Python 3 (ipykernel)",
   "language": "python",
   "name": "python3"
  },
  "language_info": {
   "codemirror_mode": {
    "name": "ipython",
    "version": 3
   },
   "file_extension": ".py",
   "mimetype": "text/x-python",
   "name": "python",
   "nbconvert_exporter": "python",
   "pygments_lexer": "ipython3",
   "version": "3.12.4"
  }
 },
 "nbformat": 4,
 "nbformat_minor": 5
}
