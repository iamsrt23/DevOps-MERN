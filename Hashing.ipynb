{
 "cells": [
  {
   "cell_type": "markdown",
   "id": "d85784ea-ec1a-48ab-b082-f16e888f0b13",
   "metadata": {},
   "source": [
    "## Count the elements of an array"
   ]
  },
  {
   "cell_type": "code",
   "execution_count": 3,
   "id": "df30392d-5aef-42f5-81fb-d3be33e5e251",
   "metadata": {},
   "outputs": [
    {
     "name": "stdout",
     "output_type": "stream",
     "text": [
      "2\n"
     ]
    }
   ],
   "source": [
    "arr = [1,2,3,2,1]\n",
    "n=len(arr)\n",
    "number =1\n",
    "hash=[0] * 10\n",
    "for i in range(n):\n",
    "    hash[arr[i]] +=1\n",
    "\n",
    "print(hash[number])"
   ]
  },
  {
   "cell_type": "code",
   "execution_count": 13,
   "id": "a7d8dfa7-25f0-4783-8099-47b49f01ad8d",
   "metadata": {},
   "outputs": [
    {
     "name": "stdout",
     "output_type": "stream",
     "text": [
      "1\n"
     ]
    }
   ],
   "source": [
    "## \tCharacter Indexing: The ord() function is used to get the ASCII value of a character. By subtracting ord('a'), we can map characters from ‘a’ to ‘z’ to indices 0 to 25.\n",
    "s=\"abcdabefc\"\n",
    "n=len(s)\n",
    "\n",
    "hash_map = [0]*26\n",
    "for i in range(n):\n",
    "    index= ord(s[i])-ord('a')\n",
    "    hash_map[index] +=1\n",
    "char = 'f'\n",
    "index=ord(char)-ord('a')\n",
    "print(hash_map[index])\n",
    "\n"
   ]
  },
  {
   "cell_type": "code",
   "execution_count": 15,
   "id": "89ac6925-c0da-43b7-845a-6ecac3122ccc",
   "metadata": {},
   "outputs": [
    {
     "name": "stdout",
     "output_type": "stream",
     "text": [
      "0\n"
     ]
    }
   ],
   "source": [
    "## \tCharacter Indexing: The ord() function is used to get the ASCII value of a character. By subtracting ord('a'), we can map characters from ‘a’ to ‘z’ to indices 0 to 25.\n",
    "s=\"abcdabefc\"\n",
    "n=len(s)\n",
    "\n",
    "hash_map = [0]*256\n",
    "for i in range(n):\n",
    "    index= ord(s[i])\n",
    "    hash_map[index] +=1\n",
    "char = 'z'\n",
    "index=ord(char)\n",
    "print(hash_map[index])\n",
    "\n"
   ]
  },
  {
   "cell_type": "markdown",
   "id": "fc6fc503-e454-4a44-ab31-9cced48cc553",
   "metadata": {},
   "source": [
    "## Maping"
   ]
  },
  {
   "cell_type": "code",
   "execution_count": 6,
   "id": "614b3b34-5f36-41ab-87fa-ef60e164c01d",
   "metadata": {},
   "outputs": [
    {
     "name": "stdout",
     "output_type": "stream",
     "text": [
      "1\n"
     ]
    }
   ],
   "source": [
    "arr = [1,2,3,1,2,12]\n",
    "n=len(arr)\n",
    "d={}\n",
    "\n",
    "for i in range(n):\n",
    "    if arr[i] not in d:\n",
    "        d[arr[i]] =1\n",
    "    else:\n",
    "        d[arr[i]] +=1\n",
    "print(d[12])\n"
   ]
  },
  {
   "cell_type": "code",
   "execution_count": 10,
   "id": "148f4721-2e23-4691-a5cf-6c79a3854ca7",
   "metadata": {},
   "outputs": [
    {
     "name": "stdout",
     "output_type": "stream",
     "text": [
      "1\n"
     ]
    }
   ],
   "source": [
    "## Division method\n",
    "\n",
    "arr = [2, 2, 1, 3, 1, 1, 3, 1, 1]\n",
    "n=len(arr)\n",
    "\n",
    "hash = {}\n",
    "\n",
    "for num in arr:\n",
    "    if num not in hash:\n",
    "        hash[num] =1\n",
    "    else:\n",
    "        hash[num] +=1\n",
    "for key,value in hash.items():\n",
    "    if value >n/2:\n",
    "        print(key)\n"
   ]
  },
  {
   "cell_type": "code",
   "execution_count": null,
   "id": "4f8466b5-e272-4b60-8e87-710e33cf9673",
   "metadata": {},
   "outputs": [],
   "source": []
  }
 ],
 "metadata": {
  "kernelspec": {
   "display_name": "Python 3 (ipykernel)",
   "language": "python",
   "name": "python3"
  },
  "language_info": {
   "codemirror_mode": {
    "name": "ipython",
    "version": 3
   },
   "file_extension": ".py",
   "mimetype": "text/x-python",
   "name": "python",
   "nbconvert_exporter": "python",
   "pygments_lexer": "ipython3",
   "version": "3.12.4"
  }
 },
 "nbformat": 4,
 "nbformat_minor": 5
}
