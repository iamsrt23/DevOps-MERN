{
 "cells": [
  {
   "cell_type": "markdown",
   "id": "0fdfc9a7-7c70-4c62-bb99-05d458736a33",
   "metadata": {},
   "source": [
    "## Iterative Approach"
   ]
  },
  {
   "cell_type": "code",
   "execution_count": 2,
   "id": "49fa1d9d-7f82-434e-9f98-ad2f96b6aaf5",
   "metadata": {},
   "outputs": [
    {
     "name": "stdout",
     "output_type": "stream",
     "text": [
      "5\n"
     ]
    }
   ],
   "source": [
    "def search(arr,target):\n",
    "    i = 0\n",
    "    j = len(arr)-1\n",
    "    while i <=j:\n",
    "        mid = i+(j-i)//2\n",
    "        if arr[mid] == target:\n",
    "            return mid\n",
    "        elif arr[mid] < target:\n",
    "            i = mid+1\n",
    "        else:\n",
    "            j=mid-1\n",
    "    return -1\n",
    "\n",
    "arr=[2,4,5,6,7,8,9]\n",
    "target = 8\n",
    "print(search(arr,target))"
   ]
  },
  {
   "cell_type": "markdown",
   "id": "a6b707d9-547a-40f3-9707-6212ec492970",
   "metadata": {},
   "source": [
    "## Recursive Approach"
   ]
  },
  {
   "cell_type": "code",
   "execution_count": 9,
   "id": "e1dcb761-0ab6-48be-b0c0-802f483c5ed6",
   "metadata": {},
   "outputs": [
    {
     "name": "stdout",
     "output_type": "stream",
     "text": [
      "4\n"
     ]
    }
   ],
   "source": [
    "def binary(arr,i,j,target):\n",
    "    if i>j:\n",
    "        return -1\n",
    "    mid = (i + j)//2\n",
    "    if arr[mid] == target:\n",
    "        return mid\n",
    "    elif arr[mid] < target:\n",
    "        return binary(arr,mid+1,j,target)\n",
    "\n",
    "    return binary(arr,i,mid-1,target)\n",
    "    return -1\n",
    "arr=[2,4,5,6,7,8,9]\n",
    "target = 7\n",
    "\n",
    "i=0\n",
    "j=len(arr)-1\n",
    "print(binary(arr,i,j,target))"
   ]
  },
  {
   "cell_type": "markdown",
   "id": "567b5aee-22c7-4d97-be0d-75d93cecb4cb",
   "metadata": {},
   "source": [
    "## Lower Bound Implementation"
   ]
  },
  {
   "cell_type": "code",
   "execution_count": null,
   "id": "a6fb39b3-2b5e-43da-8844-c5c29730ab2c",
   "metadata": {},
   "outputs": [],
   "source": [
    "def lbound(arr,x):\n",
    "    low=0\n",
    "    high=n-1\n",
    "    ans=n\n",
    "    while low<=high:\n",
    "        mid = low+(hogh-low) //2\n",
    "        if arr[mid] >=x:\n",
    "            ans=mid\n",
    "            ##look for left\n",
    "            high = mid-1\n",
    "        else:\n",
    "            low = mid+1\n",
    "    return ans\n",
    "\n",
    "arr=[2,4,5,6,7,8,9]\n",
    "x=8\n",
    "n=len(arr)\n",
    "print(lbound(arr,x))\n",
    "\n",
    "        \n",
    "    "
   ]
  },
  {
   "cell_type": "code",
   "execution_count": null,
   "id": "fb223b93-95c4-4d5c-bf62-966db6bbab33",
   "metadata": {},
   "outputs": [],
   "source": [
    "def ubound(arr,x):\n",
    "    n=len(arr)\n",
    "    low=0\n",
    "    high = n-1\n",
    "    ans=n\n",
    "    while i<=j:\n",
    "        mid = low +(high-low) //2\n",
    "        if arr[mid] > x:\n",
    "            ans=mid\n",
    "            high=mid-1\n",
    "        else:\n",
    "            low = mid+1\n",
    "    return ans\n",
    "arr=[2,4,5,6,7,8,9]\n",
    "x=8\n",
    "print(ubound(arr,x))\n",
    "    "
   ]
  },
  {
   "cell_type": "markdown",
   "id": "3b7b703f-2ef8-40ba-813c-8313d0026724",
   "metadata": {},
   "source": [
    "## First and Last occurenece"
   ]
  },
  {
   "cell_type": "code",
   "execution_count": null,
   "id": "68e6a6cc-c96f-4ada-8216-d35bc835ff96",
   "metadata": {},
   "outputs": [],
   "source": [
    "def lbound(arr,n,x):\n",
    "    low=0\n",
    "    high=n-1\n",
    "    ans=n\n",
    "    while low<=high:\n",
    "        mid = low+(high-low) //2\n",
    "        if arr[mid] >=x:\n",
    "            ans=mid\n",
    "            ##look for left\n",
    "            high = mid-1\n",
    "        else:\n",
    "            low = mid+1\n",
    "    return ans\n",
    "def ubound(arr,n,x):\n",
    "    n=len(arr)\n",
    "    low=0\n",
    "    high = n-1\n",
    "    ans=n\n",
    "    while low<=high:\n",
    "        mid = low +(high-low) //2\n",
    "        if arr[mid] > x:\n",
    "            ans=mid\n",
    "            high=mid-1\n",
    "        else:\n",
    "            low = mid+1\n",
    "    return ans\n",
    "\n",
    "def firstAndLastPosition(arr, n, x):\n",
    "\n",
    "    # Write your code here\n",
    "    lb= lbound(arr,n,x)\n",
    "    if lb==n or arr[lb]!=x:\n",
    "        return [-1,-1]\n",
    "    ub=ubound(arr,n,x)-1\n",
    "    return [lb,ub]"
   ]
  },
  {
   "cell_type": "code",
   "execution_count": 1,
   "id": "17a05896-3812-4d16-8854-2e15685dc892",
   "metadata": {},
   "outputs": [],
   "source": [
    "def first(arr,n,x):\n",
    "    low,high = 0,n-1\n",
    "    first = -1\n",
    "\n",
    "    while low <= high:\n",
    "        mid = low + (high-low)//2\n",
    "        if arr[mid] == x:\n",
    "            first =mid\n",
    "            high = mid-1\n",
    "        elif arr[mid] <x:\n",
    "            low = mid+1\n",
    "        else:\n",
    "            high = mid-1\n",
    "    return first\n",
    "def last(arr,n,x):\n",
    "    low,high = 0,n-1\n",
    "    last = -1\n",
    "\n",
    "    while low <= high:\n",
    "        mid = low + (high-low)//2\n",
    "        if arr[mid] == x:\n",
    "            last =mid\n",
    "            low = mid+1\n",
    "        elif arr[mid] <x:\n",
    "            low = mid+1\n",
    "        else:\n",
    "            high = mid-1\n",
    "    return last\n",
    "\n",
    "def firstAndLastPosition(arr, n, x):\n",
    "\n",
    "    # Write your code here\n",
    "    first_number = first(arr,n,x)\n",
    "    if first_number == -1 :\n",
    "        return [-1,-1]\n",
    "    \n",
    "    last_number = last(arr,n,x)\n",
    "    return [first_number,last_number]"
   ]
  },
  {
   "cell_type": "markdown",
   "id": "996b3c53-8851-476e-8b9b-f86a318e14b6",
   "metadata": {},
   "source": [
    "## Search in Rotated Sorted Array"
   ]
  },
  {
   "cell_type": "code",
   "execution_count": 5,
   "id": "8ab20689-fead-409a-9142-63ee87fa99a8",
   "metadata": {},
   "outputs": [
    {
     "name": "stdout",
     "output_type": "stream",
     "text": [
      "-1\n"
     ]
    }
   ],
   "source": [
    "## Unique elements\n",
    "def searchrotated(arr,n,x):\n",
    "    low=0\n",
    "    high=n-1\n",
    "    while low<=high:\n",
    "        mid=low+(high-low)//2\n",
    "        if arr[mid] == x:\n",
    "            return mid\n",
    "        if arr[low] <= arr[mid]:\n",
    "            if arr[low] <= x <=arr[mid]:\n",
    "                high=mid-1\n",
    "            else:\n",
    "                low = mid+1\n",
    "        else:\n",
    "            if arr[mid]<=x<=arr[high]:\n",
    "                low = mid+1\n",
    "            else:\n",
    "                high = mid-1\n",
    "    return -1\n",
    "\n",
    "\n",
    "\n",
    "arr =[7,8,9,1,2,3,4,5,6]\n",
    "n=len(arr)\n",
    "x=10\n",
    "print(searchrotated(arr,n,x))\n",
    "\n",
    "                "
   ]
  },
  {
   "cell_type": "code",
   "execution_count": 11,
   "id": "52352884-fafd-4232-ac93-dd8254fd9c8e",
   "metadata": {},
   "outputs": [
    {
     "name": "stdout",
     "output_type": "stream",
     "text": [
      "False\n"
     ]
    }
   ],
   "source": [
    "## Duplicate elements\n",
    "def searchrotated(arr,n,x):\n",
    "    low=0\n",
    "    high=n-1\n",
    "    while low<=high:\n",
    "        mid=low+(high-low)//2\n",
    "        if arr[mid] == x:\n",
    "            return True\n",
    "        if arr[low]==arr[mid]==arr[high]:\n",
    "            low =low+1\n",
    "            high = high-1\n",
    "            continue\n",
    "        if arr[low] <= arr[mid]:\n",
    "            if arr[low] <= x <=arr[mid]:\n",
    "                high=mid-1\n",
    "            else:\n",
    "                low = mid+1\n",
    "        else:\n",
    "            if arr[mid]<=x<=arr[high]:\n",
    "                low = mid+1\n",
    "            else:\n",
    "                high = mid-1\n",
    "    return False\n",
    "\n",
    "\n",
    "\n",
    "arr =[4,0,1,2,3,4,4,4]\n",
    "n=len(arr)\n",
    "x=5\n",
    "print(searchrotated(arr,n,x))"
   ]
  },
  {
   "cell_type": "code",
   "execution_count": 14,
   "id": "97ade4b0-1aa8-4a60-882f-d49df0b2c1b4",
   "metadata": {},
   "outputs": [
    {
     "name": "stdout",
     "output_type": "stream",
     "text": [
      "1\n"
     ]
    }
   ],
   "source": [
    "## Minimum in Rotated Sorted Array\n",
    "import math\n",
    "def minsorted(arr,n):\n",
    "    low = 0\n",
    "    high = n-1\n",
    "    ans = math.inf\n",
    "    while low<=high:\n",
    "        mid = low +(high-low)//2\n",
    "        if arr[low] <= arr[high]:\n",
    "            ans=min(ans,arr[low])\n",
    "            break\n",
    "      \n",
    "        if arr[low] <= arr[mid]:\n",
    "            ans = min(ans,arr[low])\n",
    "            low = mid+1\n",
    "        \n",
    "        else:\n",
    "            high=mid-1\n",
    "            ans = min(ans,arr[mid])\n",
    "            \n",
    "    return ans\n",
    "arr=[4,5,6,7,1,2,3]\n",
    "n=len(arr)\n",
    "print(minsorted(arr,n))\n",
    "\n",
    "        "
   ]
  },
  {
   "cell_type": "code",
   "execution_count": 17,
   "id": "4d0993c4-861e-48ad-b857-9b720de49c88",
   "metadata": {},
   "outputs": [
    {
     "name": "stdout",
     "output_type": "stream",
     "text": [
      "2\n"
     ]
    }
   ],
   "source": [
    "## How many times it rotated\n",
    "import math\n",
    "def timesrotated(arr,n):\n",
    "    low = 0\n",
    "    high = n-1\n",
    "    ans = math.inf\n",
    "    index = -1\n",
    "    while low<=high:\n",
    "        mid = low +(high-low)//2\n",
    "        if arr[low] <= arr[high]:\n",
    "            if arr[low] <= ans:\n",
    "                index=low\n",
    "                ans=arr[low]\n",
    "            break\n",
    "      \n",
    "        if arr[low] <= arr[mid]:\n",
    "            if arr[low] <= ans:\n",
    "                index=low\n",
    "                ans=arr[low]\n",
    "            low = mid+1\n",
    "        \n",
    "        else:\n",
    "            high=mid-1\n",
    "            if arr[mid] < ans:\n",
    "                index=mid\n",
    "                ans=arr[mid]\n",
    "            ans = min(ans,arr[mid])\n",
    "            \n",
    "    return index\n",
    "arr=[5,6,1,2,3,4]\n",
    "n=len(arr)\n",
    "print(timesrotated(arr,n))\n"
   ]
  },
  {
   "cell_type": "code",
   "execution_count": 21,
   "id": "436b3161-9052-492a-b871-944be4fd8c90",
   "metadata": {},
   "outputs": [
    {
     "name": "stdout",
     "output_type": "stream",
     "text": [
      "5\n"
     ]
    }
   ],
   "source": [
    "## Single element in sorted \n",
    "## Brute force --> O(N)\n",
    "\n",
    "def singlelement(arr,n):\n",
    "    if n==1:\n",
    "        return arr[0]\n",
    "    for i in range(n):\n",
    "        if i ==0:\n",
    "            if arr[i]!=arr[i+1]:\n",
    "                return arr[i]\n",
    "        elif i == n-1:\n",
    "            if arr[i] != arr[i-1]:\n",
    "                return arr[i]\n",
    "        else:\n",
    "            if arr[i-1] != arr[i] != arr[i+1]:\n",
    "                return arr[i]\n",
    "        \n",
    "arr=[1,1,2,2,3,3,4,4,5,6,6]\n",
    "n=len(arr)\n",
    "print(singlelement(arr,n))"
   ]
  },
  {
   "cell_type": "code",
   "execution_count": 26,
   "id": "f8b52482-a454-4c18-ad1e-08b2beccfd72",
   "metadata": {},
   "outputs": [
    {
     "name": "stdout",
     "output_type": "stream",
     "text": [
      "-1\n"
     ]
    }
   ],
   "source": [
    "def singleElement(arr,n):\n",
    "    if n==1:\n",
    "        return arr[o]\n",
    "    if arr[0] != arr[1]:\n",
    "        return arr[0]\n",
    "    if arr[n-1] != arr[n-2]:\n",
    "        return arr[n-1]\n",
    "\n",
    "    low=1\n",
    "    high=n-2\n",
    "    while low <= high:\n",
    "        mid = low+(high-low) //2\n",
    "        if arr[mid-1] != arr[mid] != arr[mid+1]:\n",
    "            return arr[mid]\n",
    "        ## left half eliminated\n",
    "        if mid%2 ==1 and arr[mid-1] == arr[mid] or mid %2 ==0 and arr[mid] == arr[mid+1]:\n",
    "            \n",
    "            low = mid+1\n",
    "        else:\n",
    "            high=mid-1\n",
    "    return -1\n",
    "\n",
    "arr=[1,1,2,2,3,3,4,4,5,5,6,6,7,7]\n",
    "n=len(arr)\n",
    "print(singleElement(arr,n))"
   ]
  },
  {
   "cell_type": "markdown",
   "id": "99c5d432-f0a2-478a-8887-b4a8d3592537",
   "metadata": {},
   "source": [
    "## Peak Element"
   ]
  },
  {
   "cell_type": "code",
   "execution_count": 2,
   "id": "f5d2148e-5f0c-4617-8a9e-06a6d6c6f1c2",
   "metadata": {},
   "outputs": [
    {
     "name": "stdout",
     "output_type": "stream",
     "text": [
      "8\n"
     ]
    }
   ],
   "source": [
    "## Optimal Approach\n",
    "def peak(arr,n):\n",
    "    if n==1:\n",
    "        return 0\n",
    "    if arr[0] > arr[1]:\n",
    "        return 0\n",
    "    if arr[n-1]>arr[n-2]:\n",
    "        return n-1\n",
    "    low =1\n",
    "    high=n-2\n",
    "    while low <= high:\n",
    "        mid = low+(high-low)//2\n",
    "        if arr[mid-1]<arr[mid]>arr[mid+1]:\n",
    "            return arr[mid]\n",
    "            #Searching Right side\n",
    "        if arr[mid]>arr[mid-1]:\n",
    "            low = mid+1\n",
    "        else:\n",
    "            high = mid-1\n",
    "    return -1\n",
    "\n",
    "arr=[1,2,3,4,5,6,7,8,5,1]\n",
    "n=len(arr)\n",
    "print(peak(arr,n))"
   ]
  },
  {
   "cell_type": "code",
   "execution_count": null,
   "id": "f5a27d08-1856-4f32-be4c-5e2f146b4493",
   "metadata": {},
   "outputs": [],
   "source": []
  }
 ],
 "metadata": {
  "kernelspec": {
   "display_name": "Python 3 (ipykernel)",
   "language": "python",
   "name": "python3"
  },
  "language_info": {
   "codemirror_mode": {
    "name": "ipython",
    "version": 3
   },
   "file_extension": ".py",
   "mimetype": "text/x-python",
   "name": "python",
   "nbconvert_exporter": "python",
   "pygments_lexer": "ipython3",
   "version": "3.12.4"
  }
 },
 "nbformat": 4,
 "nbformat_minor": 5
}
